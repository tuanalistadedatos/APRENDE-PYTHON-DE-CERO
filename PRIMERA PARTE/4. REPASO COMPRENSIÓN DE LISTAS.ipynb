{
 "cells": [
  {
   "cell_type": "markdown",
   "id": "ad8eb76c-5073-43b7-9b13-33bb4a6eee22",
   "metadata": {},
   "source": [
    "# _REPASO COMPRENSIÓN DE LISTAS_"
   ]
  },
  {
   "cell_type": "code",
   "execution_count": 1,
   "id": "50afb1c5-d744-40a4-8f93-4592bfeb6838",
   "metadata": {},
   "outputs": [
    {
     "name": "stdout",
     "output_type": "stream",
     "text": [
      "CPU times: user 4 µs, sys: 1 µs, total: 5 µs\n",
      "Wall time: 10 µs\n"
     ]
    }
   ],
   "source": [
    "%time"
   ]
  },
  {
   "cell_type": "markdown",
   "id": "1adff24e-1011-4050-8ffd-f1ec40d83363",
   "metadata": {},
   "source": [
    "Es una funcionalidad que nos permite crear listas avanzadas en una misma línea de código."
   ]
  },
  {
   "cell_type": "code",
   "execution_count": 2,
   "id": "90c7dea2-c0f9-4dd7-beaa-96a3eff3697d",
   "metadata": {},
   "outputs": [
    {
     "data": {
      "text/plain": [
       "[0, 1, 2, 3, 4, 5, 6, 7, 8, 9]"
      ]
     },
     "execution_count": 2,
     "metadata": {},
     "output_type": "execute_result"
    }
   ],
   "source": [
    "lst = []\n",
    "\n",
    "for i in range (1000000):\n",
    "    lst.append(i)\n",
    "    \n",
    "lst[:10]"
   ]
  },
  {
   "cell_type": "markdown",
   "id": "f4f19670-f0ee-4af9-b5a7-08e87ab0ad8e",
   "metadata": {},
   "source": [
    "Lo mismo con letras de una string:"
   ]
  },
  {
   "cell_type": "code",
   "execution_count": 3,
   "id": "9cd70ab8-c6b4-43a0-ad84-f291797e3b25",
   "metadata": {},
   "outputs": [
    {
     "data": {
      "text/plain": [
       "['c', 'a', 's', 'a']"
      ]
     },
     "execution_count": 3,
     "metadata": {},
     "output_type": "execute_result"
    }
   ],
   "source": [
    "lst2 = []\n",
    "\n",
    "for letra in 'casa':\n",
    "    lst2.append(letra)\n",
    "    \n",
    "lst2"
   ]
  },
  {
   "cell_type": "markdown",
   "id": "26a3e96d-ac93-4bcc-b0f4-f9c974c39533",
   "metadata": {},
   "source": [
    "Estos ejemplos los podemos comprimir de la siguiente manera:"
   ]
  },
  {
   "cell_type": "code",
   "execution_count": 4,
   "id": "ea94a2ae-8af1-4b93-96c3-721eadbc1261",
   "metadata": {},
   "outputs": [
    {
     "data": {
      "text/plain": [
       "[0, 1, 2, 3, 4, 5, 6, 7, 8, 9]"
      ]
     },
     "execution_count": 4,
     "metadata": {},
     "output_type": "execute_result"
    }
   ],
   "source": [
    "lst_comp = [i for i in range(1000000)]\n",
    "\n",
    "lst[:10]"
   ]
  },
  {
   "cell_type": "markdown",
   "id": "22a27adf-5c5b-444c-bb3b-a8b2c8830a61",
   "metadata": {},
   "source": [
    "Lo positivo de comprimir las listas, es que se tarda menos en cargar el resultado del código,\n",
    "como podemos ver en las siguientes celdas:"
   ]
  },
  {
   "cell_type": "code",
   "execution_count": 5,
   "id": "3c91d45d-5fca-4828-ac05-9cd4b146601c",
   "metadata": {},
   "outputs": [
    {
     "name": "stdout",
     "output_type": "stream",
     "text": [
      "CPU times: user 2 µs, sys: 0 ns, total: 2 µs\n",
      "Wall time: 3.81 µs\n"
     ]
    },
    {
     "data": {
      "text/plain": [
       "['c', 'a', 's', 'a']"
      ]
     },
     "execution_count": 5,
     "metadata": {},
     "output_type": "execute_result"
    }
   ],
   "source": [
    "%time\n",
    "\n",
    "lst2 = []\n",
    "\n",
    "for letra in 'casa':\n",
    "    lst2.append(letra)\n",
    "    \n",
    "lst2"
   ]
  },
  {
   "cell_type": "code",
   "execution_count": 6,
   "id": "20cd96f4-cd59-4728-bd70-4f86c56a3d78",
   "metadata": {},
   "outputs": [
    {
     "name": "stdout",
     "output_type": "stream",
     "text": [
      "CPU times: user 3 µs, sys: 1 µs, total: 4 µs\n",
      "Wall time: 7.15 µs\n"
     ]
    },
    {
     "data": {
      "text/plain": [
       "['c', 'a', 's', 'a']"
      ]
     },
     "execution_count": 6,
     "metadata": {},
     "output_type": "execute_result"
    }
   ],
   "source": [
    "%time\n",
    "\n",
    "lst2_comp = [letra for letra in 'casa']\n",
    "lst2_comp"
   ]
  },
  {
   "cell_type": "markdown",
   "id": "e4973e82-3058-4c6a-bdd5-62a9f4dee6f4",
   "metadata": {},
   "source": [
    "Crear una lista con las potencias de 2 de los primeros 10 números:"
   ]
  },
  {
   "cell_type": "code",
   "execution_count": 7,
   "id": "3a4e32d8-9e32-4f2f-8abf-a89bfe5887da",
   "metadata": {},
   "outputs": [
    {
     "name": "stdout",
     "output_type": "stream",
     "text": [
      "CPU times: user 4 µs, sys: 1e+03 ns, total: 5 µs\n",
      "Wall time: 8.82 µs\n"
     ]
    },
    {
     "data": {
      "text/plain": [
       "[0, 1, 4, 9, 16, 25, 36, 49, 64, 81, 100]"
      ]
     },
     "execution_count": 7,
     "metadata": {},
     "output_type": "execute_result"
    }
   ],
   "source": [
    "%time\n",
    "\n",
    "lst3 = []\n",
    "\n",
    "for numero in range (0,11):\n",
    "    lst3.append(numero**2)\n",
    "\n",
    "lst3"
   ]
  },
  {
   "cell_type": "code",
   "execution_count": 8,
   "id": "c06a32f7-328d-48f6-a10a-30536eb756e8",
   "metadata": {},
   "outputs": [
    {
     "name": "stdout",
     "output_type": "stream",
     "text": [
      "CPU times: user 2 µs, sys: 0 ns, total: 2 µs\n",
      "Wall time: 4.05 µs\n"
     ]
    },
    {
     "data": {
      "text/plain": [
       "[0, 1, 4, 9, 16, 25, 36, 49, 64, 81, 100]"
      ]
     },
     "execution_count": 8,
     "metadata": {},
     "output_type": "execute_result"
    }
   ],
   "source": [
    "%time\n",
    "\n",
    "lst3_comp = [numero**2 for numero in range (0,11)]\n",
    "\n",
    "lst3_comp"
   ]
  },
  {
   "cell_type": "markdown",
   "id": "ec7cb689-747f-48f4-90d0-6c53dc0c09a9",
   "metadata": {},
   "source": [
    "Crear una lista con los todos los múltiples de 2 entre 0 y 10:"
   ]
  },
  {
   "cell_type": "code",
   "execution_count": 9,
   "id": "afb41aeb-7c3c-4c5f-80e9-3ebca1ed7c9d",
   "metadata": {},
   "outputs": [
    {
     "name": "stdout",
     "output_type": "stream",
     "text": [
      "CPU times: user 2 µs, sys: 1e+03 ns, total: 3 µs\n",
      "Wall time: 4.77 µs\n"
     ]
    },
    {
     "data": {
      "text/plain": [
       "[0, 2, 4, 6, 8, 10]"
      ]
     },
     "execution_count": 9,
     "metadata": {},
     "output_type": "execute_result"
    }
   ],
   "source": [
    "%time\n",
    "\n",
    "lst4 = []\n",
    "\n",
    "for numero in range (0,11):\n",
    "    if numero % 2 == 0:\n",
    "        lst4.append(numero)\n",
    "\n",
    "lst4"
   ]
  },
  {
   "cell_type": "code",
   "execution_count": 10,
   "id": "8ac74f01-e6f3-4a35-9f0a-570dfb987cf3",
   "metadata": {},
   "outputs": [
    {
     "name": "stdout",
     "output_type": "stream",
     "text": [
      "CPU times: user 4 µs, sys: 0 ns, total: 4 µs\n",
      "Wall time: 6.91 µs\n"
     ]
    },
    {
     "data": {
      "text/plain": [
       "[0, 2, 4, 6, 8, 10]"
      ]
     },
     "execution_count": 10,
     "metadata": {},
     "output_type": "execute_result"
    }
   ],
   "source": [
    "%time\n",
    "\n",
    "lst4_comp = [numero for numero in range (0,11) if numero %2==0]\n",
    "\n",
    "lst4_comp"
   ]
  },
  {
   "cell_type": "markdown",
   "id": "469baddf-8059-47f4-b34b-73200bdb1c5a",
   "metadata": {},
   "source": [
    "Algo más loco:"
   ]
  },
  {
   "cell_type": "code",
   "execution_count": 11,
   "id": "68990829-463c-408f-a755-79e734a7ac25",
   "metadata": {},
   "outputs": [
    {
     "name": "stdout",
     "output_type": "stream",
     "text": [
      "CPU times: user 12 µs, sys: 3 µs, total: 15 µs\n",
      "Wall time: 26.2 µs\n"
     ]
    },
    {
     "data": {
      "text/plain": [
       "[0, 11, 'hola', 3, 14, 'hola', 6, 17, 'hola', 9]"
      ]
     },
     "execution_count": 11,
     "metadata": {},
     "output_type": "execute_result"
    }
   ],
   "source": [
    "%time\n",
    "\n",
    "lst5 = []\n",
    "\n",
    "\n",
    "for valor in range(10):\n",
    "    \n",
    "    if valor % 3 == 0:\n",
    "        \n",
    "        lst5.append(valor)\n",
    "        \n",
    "    elif valor % 3 == 1:\n",
    "        \n",
    "        lst5.append(valor + 10)\n",
    "        \n",
    "    else:\n",
    "        \n",
    "        lst5.append('hola')\n",
    "        \n",
    "        \n",
    "lst5"
   ]
  },
  {
   "cell_type": "code",
   "execution_count": 12,
   "id": "642ed29e-a552-4b14-b115-0d993b8bd7a5",
   "metadata": {},
   "outputs": [
    {
     "name": "stdout",
     "output_type": "stream",
     "text": [
      "CPU times: user 2 µs, sys: 0 ns, total: 2 µs\n",
      "Wall time: 4.77 µs\n"
     ]
    },
    {
     "data": {
      "text/plain": [
       "[0, 11, 'hola', 3, 14, 'hola', 6, 17, 'hola', 9]"
      ]
     },
     "execution_count": 12,
     "metadata": {},
     "output_type": "execute_result"
    }
   ],
   "source": [
    "%time\n",
    "\n",
    "lst5_comp = [valor if valor % 3 == 0 else (valor + 10 if valor %3 ==1 else 'hola') for valor in range (10)]\n",
    "lst5_comp"
   ]
  },
  {
   "cell_type": "markdown",
   "id": "3b6ddb65-a0a6-4a8c-8666-e5c9186855f6",
   "metadata": {},
   "source": [
    "Se puede usar hasta para matrices:"
   ]
  },
  {
   "cell_type": "code",
   "execution_count": 13,
   "id": "db548a61-7e1d-4784-9faf-a345da8c1f54",
   "metadata": {},
   "outputs": [
    {
     "name": "stdout",
     "output_type": "stream",
     "text": [
      "CPU times: user 2 µs, sys: 1 µs, total: 3 µs\n",
      "Wall time: 3.81 µs\n"
     ]
    },
    {
     "data": {
      "text/plain": [
       "[[0, 1, 2, 3], [0, 1, 2, 3], [0, 1, 2, 3]]"
      ]
     },
     "execution_count": 13,
     "metadata": {},
     "output_type": "execute_result"
    }
   ],
   "source": [
    "%time\n",
    "\n",
    "matriz = []\n",
    "\n",
    "\n",
    "for fila in range(3):\n",
    "    \n",
    "    tmp_lst = []\n",
    "    \n",
    "    for elem in range(4):\n",
    "        \n",
    "        tmp_lst.append(elem)\n",
    "        \n",
    "    matriz.append(tmp_lst)\n",
    "    \n",
    "matriz"
   ]
  },
  {
   "cell_type": "code",
   "execution_count": 14,
   "id": "6aef95f4-5333-4336-bc39-fadb3e2d236e",
   "metadata": {},
   "outputs": [
    {
     "name": "stdout",
     "output_type": "stream",
     "text": [
      "CPU times: user 2 µs, sys: 0 ns, total: 2 µs\n",
      "Wall time: 5.25 µs\n"
     ]
    },
    {
     "data": {
      "text/plain": [
       "[[0, 1, 2, 3], [0, 1, 2, 3], [0, 1, 2, 3]]"
      ]
     },
     "execution_count": 14,
     "metadata": {},
     "output_type": "execute_result"
    }
   ],
   "source": [
    "%time\n",
    "\n",
    "matriz_comp = [[elem for elem in range(4)] for fila in range (3)]\n",
    "matriz_comp"
   ]
  }
 ],
 "metadata": {
  "kernelspec": {
   "display_name": "Python 3 (ipykernel)",
   "language": "python",
   "name": "python3"
  },
  "language_info": {
   "codemirror_mode": {
    "name": "ipython",
    "version": 3
   },
   "file_extension": ".py",
   "mimetype": "text/x-python",
   "name": "python",
   "nbconvert_exporter": "python",
   "pygments_lexer": "ipython3",
   "version": "3.11.7"
  }
 },
 "nbformat": 4,
 "nbformat_minor": 5
}
