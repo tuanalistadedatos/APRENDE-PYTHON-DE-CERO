{
 "cells": [
  {
   "cell_type": "markdown",
   "id": "d29068d2-f796-4eb6-a2fc-73268b0ff5e3",
   "metadata": {},
   "source": [
    "# *REPASO DATA STRUCTURES:*"
   ]
  },
  {
   "cell_type": "markdown",
   "id": "c457549f-a65a-4318-94a7-a6d866d02fea",
   "metadata": {},
   "source": [
    "## TUPLAS:"
   ]
  },
  {
   "cell_type": "markdown",
   "id": "7693554c-6f46-4455-9c84-0c8e6d517d9b",
   "metadata": {},
   "source": [
    "Son un tipo o estructura de datos que permite almacenar datos de una manera muy parecida a las listas, pero que en este caso son inmutables, es decir, no pueden ser modificadas.\n",
    "\n",
    "Para hacer uso de ellas, se usan \"(...)\". Aunque también se pueden generar separando los valores por \",\""
   ]
  },
  {
   "cell_type": "code",
   "execution_count": 1,
   "id": "ec43af40-cb78-4e98-b1a7-f1b5f9b7001a",
   "metadata": {},
   "outputs": [
    {
     "data": {
      "text/plain": [
       "(1, 2, 3)"
      ]
     },
     "execution_count": 1,
     "metadata": {},
     "output_type": "execute_result"
    }
   ],
   "source": [
    "tupla = (1, 2, 3)\n",
    "tupla"
   ]
  },
  {
   "cell_type": "markdown",
   "id": "a984b03d-4af2-4acf-b47e-1481ee488820",
   "metadata": {},
   "source": [
    "Además de números podemos añadir cualquier otro tipo de dato:"
   ]
  },
  {
   "cell_type": "code",
   "execution_count": 2,
   "id": "2755979b-0449-45ca-9be1-c766a38cb535",
   "metadata": {},
   "outputs": [
    {
     "data": {
      "text/plain": [
       "('hola', 2, 'adios', True)"
      ]
     },
     "execution_count": 2,
     "metadata": {},
     "output_type": "execute_result"
    }
   ],
   "source": [
    "tupla_multiple = ('hola', 2, 'adios', True)\n",
    "tupla_multiple"
   ]
  },
  {
   "cell_type": "code",
   "execution_count": 3,
   "id": "131ec280-0149-4e40-a54a-d769e465bdc5",
   "metadata": {},
   "outputs": [
    {
     "ename": "AttributeError",
     "evalue": "'tuple' object has no attribute 'append'",
     "output_type": "error",
     "traceback": [
      "\u001b[0;31m---------------------------------------------------------------------------\u001b[0m",
      "\u001b[0;31mAttributeError\u001b[0m                            Traceback (most recent call last)",
      "Cell \u001b[0;32mIn[3], line 1\u001b[0m\n\u001b[0;32m----> 1\u001b[0m tupla\u001b[38;5;241m.\u001b[39mappend(\u001b[38;5;241m9\u001b[39m)\n",
      "\u001b[0;31mAttributeError\u001b[0m: 'tuple' object has no attribute 'append'"
     ]
    }
   ],
   "source": [
    "tupla.append(9) #Recordemos que nos dará error si intentamos modificar la tupla"
   ]
  },
  {
   "cell_type": "markdown",
   "id": "e051aa0a-dd1c-4bac-8804-3f3a0a0506e8",
   "metadata": {},
   "source": [
    "Podemos identificar qué valor hay dentro de la tupla según su posición:"
   ]
  },
  {
   "cell_type": "code",
   "execution_count": 4,
   "id": "8ad6834e-bcb9-40b0-8be0-1825d08e4fe2",
   "metadata": {},
   "outputs": [
    {
     "data": {
      "text/plain": [
       "3"
      ]
     },
     "execution_count": 4,
     "metadata": {},
     "output_type": "execute_result"
    }
   ],
   "source": [
    "tupla[2]"
   ]
  },
  {
   "cell_type": "code",
   "execution_count": 6,
   "id": "b7591f08-fb2f-4315-a2f0-e6c15afd2377",
   "metadata": {},
   "outputs": [
    {
     "data": {
      "text/plain": [
       "'adios'"
      ]
     },
     "execution_count": 6,
     "metadata": {},
     "output_type": "execute_result"
    }
   ],
   "source": [
    "tupla_multiple[2]"
   ]
  },
  {
   "cell_type": "markdown",
   "id": "81f45624-246b-4616-befd-b1b783b57e06",
   "metadata": {},
   "source": [
    "## LISTAS:"
   ]
  },
  {
   "cell_type": "markdown",
   "id": "3250889f-986c-4def-a697-e9d9575c4eb4",
   "metadata": {},
   "source": [
    "Las listas en Python son un tipo de dato que permite almacenar datos de cualquier tipo. Son mutables y dinámicas, lo cual es la principal diferencia con los sets y las tuplas. Es decir, podemos guardar en ellas prácticamente lo que sea.\n",
    "\n",
    "Para hacer uso de ellas, se usan \"[...]\", separando sus valores con \",\"\n",
    "\n",
    "Algunas propiedades de las listas:\n",
    "\n",
    "* Son ordenadas, mantienen el orden en el que han sido definidas\n",
    "* Pueden ser formadas por tipos arbitrarios\n",
    "* Pueden ser indexadas con [i].\n",
    "* Se pueden anidar, es decir, meter una dentro de la otra.\n",
    "* Son mutables, ya que sus elementos pueden ser modificados.\n",
    "* Son dinámicas, ya que se pueden añadir o eliminar elementos."
   ]
  },
  {
   "cell_type": "code",
   "execution_count": 16,
   "id": "75e55f64-1903-4bdd-9b0e-5fdefa6b6ee7",
   "metadata": {
    "scrolled": true
   },
   "outputs": [
    {
     "data": {
      "text/plain": [
       "[1, 2, 3]"
      ]
     },
     "execution_count": 16,
     "metadata": {},
     "output_type": "execute_result"
    }
   ],
   "source": [
    "lista = [1, 2, 3]\n",
    "lista"
   ]
  },
  {
   "cell_type": "markdown",
   "id": "c5aa7710-a9dc-4fed-bad2-1db53153a0a0",
   "metadata": {},
   "source": [
    "Podemos convertir las listas en tuplas haciendo uso de la función \"tuple(...)\""
   ]
  },
  {
   "cell_type": "code",
   "execution_count": 17,
   "id": "3db63057-a743-4fa6-90fa-d6deb20a56fc",
   "metadata": {},
   "outputs": [
    {
     "data": {
      "text/plain": [
       "(1, 2, 3)"
      ]
     },
     "execution_count": 17,
     "metadata": {},
     "output_type": "execute_result"
    }
   ],
   "source": [
    "de_lista_a_tupla = tuple(lista)\n",
    "de_lista_a_tupla"
   ]
  },
  {
   "cell_type": "markdown",
   "id": "6f3957a4-aaa6-43a1-807d-091ef8431d73",
   "metadata": {},
   "source": [
    "Podemos convertir las tuplas en listas haciendo uso de la función \"list(nombre_de_la_tupla)\""
   ]
  },
  {
   "cell_type": "code",
   "execution_count": 18,
   "id": "ef87a33b-a49b-4abf-9fdf-71558ec226c2",
   "metadata": {},
   "outputs": [
    {
     "data": {
      "text/plain": [
       "['hola', 2, 'adios', True]"
      ]
     },
     "execution_count": 18,
     "metadata": {},
     "output_type": "execute_result"
    }
   ],
   "source": [
    "lista_multiple = list(tupla_multiple)\n",
    "lista_multiple"
   ]
  },
  {
   "cell_type": "markdown",
   "id": "f31f0340-400c-4707-acf8-524a8cb0ae8d",
   "metadata": {},
   "source": [
    "Para añadir valores nuevos usamos \".append(...)\""
   ]
  },
  {
   "cell_type": "code",
   "execution_count": 19,
   "id": "aca06afe-23e7-4000-946f-198d3e055a18",
   "metadata": {},
   "outputs": [],
   "source": [
    "lista_multiple.append(90)\n"
   ]
  },
  {
   "cell_type": "code",
   "execution_count": 20,
   "id": "931d02d9-194c-4406-927b-97301ff39115",
   "metadata": {},
   "outputs": [
    {
     "data": {
      "text/plain": [
       "['hola', 2, 'adios', True, 90]"
      ]
     },
     "execution_count": 20,
     "metadata": {},
     "output_type": "execute_result"
    }
   ],
   "source": [
    "lista_multiple"
   ]
  },
  {
   "cell_type": "markdown",
   "id": "4d85435e-4ec4-4b29-a7d3-19ae74393d91",
   "metadata": {},
   "source": [
    "Podemos sustituir el valor que queramos de dentro de la lista por otro dato cualquiera:"
   ]
  },
  {
   "cell_type": "code",
   "execution_count": 21,
   "id": "53f077f8-ad52-4837-a1aa-cdc1ae266a03",
   "metadata": {},
   "outputs": [
    {
     "data": {
      "text/plain": [
       "['hola', 2, 'esternocleidomastoideo', True, 90]"
      ]
     },
     "execution_count": 21,
     "metadata": {},
     "output_type": "execute_result"
    }
   ],
   "source": [
    "lista_multiple[2] = 'esternocleidomastoideo'\n",
    "lista_multiple"
   ]
  },
  {
   "cell_type": "markdown",
   "id": "39c26626-6f43-4958-9956-d029c1456110",
   "metadata": {},
   "source": [
    "Ayuda en las listas:"
   ]
  },
  {
   "cell_type": "code",
   "execution_count": 23,
   "id": "cd9e9e0d-86fc-4943-a267-e7a65d267247",
   "metadata": {},
   "outputs": [
    {
     "name": "stdout",
     "output_type": "stream",
     "text": [
      "Help on list object:\n",
      "\n",
      "class list(object)\n",
      " |  list(iterable=(), /)\n",
      " |  \n",
      " |  Built-in mutable sequence.\n",
      " |  \n",
      " |  If no argument is given, the constructor creates a new empty list.\n",
      " |  The argument must be an iterable if specified.\n",
      " |  \n",
      " |  Methods defined here:\n",
      " |  \n",
      " |  __add__(self, value, /)\n",
      " |      Return self+value.\n",
      " |  \n",
      " |  __contains__(self, key, /)\n",
      " |      Return key in self.\n",
      " |  \n",
      " |  __delitem__(self, key, /)\n",
      " |      Delete self[key].\n",
      " |  \n",
      " |  __eq__(self, value, /)\n",
      " |      Return self==value.\n",
      " |  \n",
      " |  __ge__(self, value, /)\n",
      " |      Return self>=value.\n",
      " |  \n",
      " |  __getattribute__(self, name, /)\n",
      " |      Return getattr(self, name).\n",
      " |  \n",
      " |  __getitem__(...)\n",
      " |      x.__getitem__(y) <==> x[y]\n",
      " |  \n",
      " |  __gt__(self, value, /)\n",
      " |      Return self>value.\n",
      " |  \n",
      " |  __iadd__(self, value, /)\n",
      " |      Implement self+=value.\n",
      " |  \n",
      " |  __imul__(self, value, /)\n",
      " |      Implement self*=value.\n",
      " |  \n",
      " |  __init__(self, /, *args, **kwargs)\n",
      " |      Initialize self.  See help(type(self)) for accurate signature.\n",
      " |  \n",
      " |  __iter__(self, /)\n",
      " |      Implement iter(self).\n",
      " |  \n",
      " |  __le__(self, value, /)\n",
      " |      Return self<=value.\n",
      " |  \n",
      " |  __len__(self, /)\n",
      " |      Return len(self).\n",
      " |  \n",
      " |  __lt__(self, value, /)\n",
      " |      Return self<value.\n",
      " |  \n",
      " |  __mul__(self, value, /)\n",
      " |      Return self*value.\n",
      " |  \n",
      " |  __ne__(self, value, /)\n",
      " |      Return self!=value.\n",
      " |  \n",
      " |  __repr__(self, /)\n",
      " |      Return repr(self).\n",
      " |  \n",
      " |  __reversed__(self, /)\n",
      " |      Return a reverse iterator over the list.\n",
      " |  \n",
      " |  __rmul__(self, value, /)\n",
      " |      Return value*self.\n",
      " |  \n",
      " |  __setitem__(self, key, value, /)\n",
      " |      Set self[key] to value.\n",
      " |  \n",
      " |  __sizeof__(self, /)\n",
      " |      Return the size of the list in memory, in bytes.\n",
      " |  \n",
      " |  append(self, object, /)\n",
      " |      Append object to the end of the list.\n",
      " |  \n",
      " |  clear(self, /)\n",
      " |      Remove all items from list.\n",
      " |  \n",
      " |  copy(self, /)\n",
      " |      Return a shallow copy of the list.\n",
      " |  \n",
      " |  count(self, value, /)\n",
      " |      Return number of occurrences of value.\n",
      " |  \n",
      " |  extend(self, iterable, /)\n",
      " |      Extend list by appending elements from the iterable.\n",
      " |  \n",
      " |  index(self, value, start=0, stop=9223372036854775807, /)\n",
      " |      Return first index of value.\n",
      " |      \n",
      " |      Raises ValueError if the value is not present.\n",
      " |  \n",
      " |  insert(self, index, object, /)\n",
      " |      Insert object before index.\n",
      " |  \n",
      " |  pop(self, index=-1, /)\n",
      " |      Remove and return item at index (default last).\n",
      " |      \n",
      " |      Raises IndexError if list is empty or index is out of range.\n",
      " |  \n",
      " |  remove(self, value, /)\n",
      " |      Remove first occurrence of value.\n",
      " |      \n",
      " |      Raises ValueError if the value is not present.\n",
      " |  \n",
      " |  reverse(self, /)\n",
      " |      Reverse *IN PLACE*.\n",
      " |  \n",
      " |  sort(self, /, *, key=None, reverse=False)\n",
      " |      Sort the list in ascending order and return None.\n",
      " |      \n",
      " |      The sort is in-place (i.e. the list itself is modified) and stable (i.e. the\n",
      " |      order of two equal elements is maintained).\n",
      " |      \n",
      " |      If a key function is given, apply it once to each list item and sort them,\n",
      " |      ascending or descending, according to their function values.\n",
      " |      \n",
      " |      The reverse flag can be set to sort in descending order.\n",
      " |  \n",
      " |  ----------------------------------------------------------------------\n",
      " |  Class methods defined here:\n",
      " |  \n",
      " |  __class_getitem__(...) from builtins.type\n",
      " |      See PEP 585\n",
      " |  \n",
      " |  ----------------------------------------------------------------------\n",
      " |  Static methods defined here:\n",
      " |  \n",
      " |  __new__(*args, **kwargs) from builtins.type\n",
      " |      Create and return a new object.  See help(type) for accurate signature.\n",
      " |  \n",
      " |  ----------------------------------------------------------------------\n",
      " |  Data and other attributes defined here:\n",
      " |  \n",
      " |  __hash__ = None\n",
      "\n"
     ]
    }
   ],
   "source": [
    "help(lista)"
   ]
  },
  {
   "cell_type": "markdown",
   "id": "a13213a9-1b75-400e-aca9-b0b4e25b33fa",
   "metadata": {},
   "source": [
    "Para insertar un nuevo dato sin eliminar otro, usamos 'insert':"
   ]
  },
  {
   "cell_type": "code",
   "execution_count": 24,
   "id": "b789bc08-45a0-4bd0-989b-92ad8168c815",
   "metadata": {},
   "outputs": [
    {
     "data": {
      "text/plain": [
       "[358.23, 'hola', 2, 'esternocleidomastoideo', True, 90]"
      ]
     },
     "execution_count": 24,
     "metadata": {},
     "output_type": "execute_result"
    }
   ],
   "source": [
    "lista_multiple.insert(0, 358.23)\n",
    "lista_multiple"
   ]
  },
  {
   "cell_type": "markdown",
   "id": "e9bb14ba-9e87-4450-9116-1e09d8f7ebd8",
   "metadata": {},
   "source": [
    "# DICCIONARIOS (clave-valor):"
   ]
  },
  {
   "cell_type": "markdown",
   "id": "a749ca37-10d9-48b2-81ca-ec07bfb4937c",
   "metadata": {},
   "source": [
    "Son una estructura de datos que permite almacenar su contenido en forma de clave y valor.\n",
    "\n",
    "Se podría decir que es una colección de elementos, donde cada uno tiene una clave \"key\" y un valor \"value\". Los diccionarios se pueden crear con paréntesis \"{}\" separando con una coma cada par \"key: value\"."
   ]
  },
  {
   "cell_type": "code",
   "execution_count": 25,
   "id": "4bd166d4-b379-43f7-96ea-526c1b9865ae",
   "metadata": {},
   "outputs": [],
   "source": [
    "dictio = {'nombre': 'Víctor',\n",
    "          'edad': 24,\n",
    "          'lugar': 'Madrid'}"
   ]
  },
  {
   "cell_type": "code",
   "execution_count": 26,
   "id": "24093580-e7df-49e6-a37f-a942ccb65cb3",
   "metadata": {},
   "outputs": [
    {
     "data": {
      "text/plain": [
       "{'nombre': 'Víctor', 'edad': 24, 'lugar': 'Madrid'}"
      ]
     },
     "execution_count": 26,
     "metadata": {},
     "output_type": "execute_result"
    }
   ],
   "source": [
    "dictio"
   ]
  },
  {
   "cell_type": "code",
   "execution_count": 27,
   "id": "ded83131-70bb-4fd4-b518-fb6fa30f4806",
   "metadata": {},
   "outputs": [
    {
     "data": {
      "text/plain": [
       "24"
      ]
     },
     "execution_count": 27,
     "metadata": {},
     "output_type": "execute_result"
    }
   ],
   "source": [
    "dictio['edad']"
   ]
  },
  {
   "cell_type": "markdown",
   "id": "6677b2f3-29b2-4b53-b1f9-c51f2d2ad3ff",
   "metadata": {},
   "source": [
    "Podemos cambiar el valor de la clave haciendo referencia a ella con corchetes \"[...]\""
   ]
  },
  {
   "cell_type": "code",
   "execution_count": 32,
   "id": "d1eb2952-84ab-400d-ae17-155a49884b56",
   "metadata": {},
   "outputs": [
    {
     "data": {
      "text/plain": [
       "{'nombre': 'Víctor', 'edad': 24, 'lugar': 'La Puebla de Montalbán'}"
      ]
     },
     "execution_count": 32,
     "metadata": {},
     "output_type": "execute_result"
    }
   ],
   "source": [
    "dictio['lugar'] = 'La Puebla de Montalbán'\n",
    "dictio"
   ]
  },
  {
   "cell_type": "code",
   "execution_count": 33,
   "id": "d8719931-2ab5-483c-b394-c7aebcee7d46",
   "metadata": {},
   "outputs": [
    {
     "name": "stdout",
     "output_type": "stream",
     "text": [
      "Help on dict object:\n",
      "\n",
      "class dict(object)\n",
      " |  dict() -> new empty dictionary\n",
      " |  dict(mapping) -> new dictionary initialized from a mapping object's\n",
      " |      (key, value) pairs\n",
      " |  dict(iterable) -> new dictionary initialized as if via:\n",
      " |      d = {}\n",
      " |      for k, v in iterable:\n",
      " |          d[k] = v\n",
      " |  dict(**kwargs) -> new dictionary initialized with the name=value pairs\n",
      " |      in the keyword argument list.  For example:  dict(one=1, two=2)\n",
      " |  \n",
      " |  Built-in subclasses:\n",
      " |      StgDict\n",
      " |  \n",
      " |  Methods defined here:\n",
      " |  \n",
      " |  __contains__(self, key, /)\n",
      " |      True if the dictionary has the specified key, else False.\n",
      " |  \n",
      " |  __delitem__(self, key, /)\n",
      " |      Delete self[key].\n",
      " |  \n",
      " |  __eq__(self, value, /)\n",
      " |      Return self==value.\n",
      " |  \n",
      " |  __ge__(self, value, /)\n",
      " |      Return self>=value.\n",
      " |  \n",
      " |  __getattribute__(self, name, /)\n",
      " |      Return getattr(self, name).\n",
      " |  \n",
      " |  __getitem__(...)\n",
      " |      x.__getitem__(y) <==> x[y]\n",
      " |  \n",
      " |  __gt__(self, value, /)\n",
      " |      Return self>value.\n",
      " |  \n",
      " |  __init__(self, /, *args, **kwargs)\n",
      " |      Initialize self.  See help(type(self)) for accurate signature.\n",
      " |  \n",
      " |  __ior__(self, value, /)\n",
      " |      Return self|=value.\n",
      " |  \n",
      " |  __iter__(self, /)\n",
      " |      Implement iter(self).\n",
      " |  \n",
      " |  __le__(self, value, /)\n",
      " |      Return self<=value.\n",
      " |  \n",
      " |  __len__(self, /)\n",
      " |      Return len(self).\n",
      " |  \n",
      " |  __lt__(self, value, /)\n",
      " |      Return self<value.\n",
      " |  \n",
      " |  __ne__(self, value, /)\n",
      " |      Return self!=value.\n",
      " |  \n",
      " |  __or__(self, value, /)\n",
      " |      Return self|value.\n",
      " |  \n",
      " |  __repr__(self, /)\n",
      " |      Return repr(self).\n",
      " |  \n",
      " |  __reversed__(self, /)\n",
      " |      Return a reverse iterator over the dict keys.\n",
      " |  \n",
      " |  __ror__(self, value, /)\n",
      " |      Return value|self.\n",
      " |  \n",
      " |  __setitem__(self, key, value, /)\n",
      " |      Set self[key] to value.\n",
      " |  \n",
      " |  __sizeof__(...)\n",
      " |      D.__sizeof__() -> size of D in memory, in bytes\n",
      " |  \n",
      " |  clear(...)\n",
      " |      D.clear() -> None.  Remove all items from D.\n",
      " |  \n",
      " |  copy(...)\n",
      " |      D.copy() -> a shallow copy of D\n",
      " |  \n",
      " |  get(self, key, default=None, /)\n",
      " |      Return the value for key if key is in the dictionary, else default.\n",
      " |  \n",
      " |  items(...)\n",
      " |      D.items() -> a set-like object providing a view on D's items\n",
      " |  \n",
      " |  keys(...)\n",
      " |      D.keys() -> a set-like object providing a view on D's keys\n",
      " |  \n",
      " |  pop(...)\n",
      " |      D.pop(k[,d]) -> v, remove specified key and return the corresponding value.\n",
      " |      \n",
      " |      If the key is not found, return the default if given; otherwise,\n",
      " |      raise a KeyError.\n",
      " |  \n",
      " |  popitem(self, /)\n",
      " |      Remove and return a (key, value) pair as a 2-tuple.\n",
      " |      \n",
      " |      Pairs are returned in LIFO (last-in, first-out) order.\n",
      " |      Raises KeyError if the dict is empty.\n",
      " |  \n",
      " |  setdefault(self, key, default=None, /)\n",
      " |      Insert key with a value of default if key is not in the dictionary.\n",
      " |      \n",
      " |      Return the value for key if key is in the dictionary, else default.\n",
      " |  \n",
      " |  update(...)\n",
      " |      D.update([E, ]**F) -> None.  Update D from dict/iterable E and F.\n",
      " |      If E is present and has a .keys() method, then does:  for k in E: D[k] = E[k]\n",
      " |      If E is present and lacks a .keys() method, then does:  for k, v in E: D[k] = v\n",
      " |      In either case, this is followed by: for k in F:  D[k] = F[k]\n",
      " |  \n",
      " |  values(...)\n",
      " |      D.values() -> an object providing a view on D's values\n",
      " |  \n",
      " |  ----------------------------------------------------------------------\n",
      " |  Class methods defined here:\n",
      " |  \n",
      " |  __class_getitem__(...) from builtins.type\n",
      " |      See PEP 585\n",
      " |  \n",
      " |  fromkeys(iterable, value=None, /) from builtins.type\n",
      " |      Create a new dictionary with keys from iterable and values set to value.\n",
      " |  \n",
      " |  ----------------------------------------------------------------------\n",
      " |  Static methods defined here:\n",
      " |  \n",
      " |  __new__(*args, **kwargs) from builtins.type\n",
      " |      Create and return a new object.  See help(type) for accurate signature.\n",
      " |  \n",
      " |  ----------------------------------------------------------------------\n",
      " |  Data and other attributes defined here:\n",
      " |  \n",
      " |  __hash__ = None\n",
      "\n"
     ]
    }
   ],
   "source": [
    "help(dictio)"
   ]
  },
  {
   "cell_type": "code",
   "execution_count": 34,
   "id": "dc08ea6e-4e33-4e59-be36-63549526f909",
   "metadata": {},
   "outputs": [
    {
     "data": {
      "text/plain": [
       "{'nombre': 'Víctor',\n",
       " 'edad': 24,\n",
       " 'lugar': 'La Puebla de Montalbán',\n",
       " 'altura': 174}"
      ]
     },
     "execution_count": 34,
     "metadata": {},
     "output_type": "execute_result"
    }
   ],
   "source": [
    "dictio ['altura'] = 174\n",
    "dictio"
   ]
  },
  {
   "cell_type": "code",
   "execution_count": 35,
   "id": "58eed893-a092-4d0a-a125-94d4b2fc2799",
   "metadata": {},
   "outputs": [
    {
     "data": {
      "text/plain": [
       "dict_keys(['nombre', 'edad', 'lugar', 'altura'])"
      ]
     },
     "execution_count": 35,
     "metadata": {},
     "output_type": "execute_result"
    }
   ],
   "source": [
    "dictio.keys()"
   ]
  },
  {
   "cell_type": "code",
   "execution_count": 36,
   "id": "c1ade1ff-00c9-4339-964f-394d0214f24b",
   "metadata": {},
   "outputs": [
    {
     "data": {
      "text/plain": [
       "False"
      ]
     },
     "execution_count": 36,
     "metadata": {},
     "output_type": "execute_result"
    }
   ],
   "source": [
    "'pelo' in dictio.keys()"
   ]
  },
  {
   "cell_type": "code",
   "execution_count": 37,
   "id": "b25e81e3-bf6d-4fbd-ad11-1faf1b551b48",
   "metadata": {},
   "outputs": [
    {
     "data": {
      "text/plain": [
       "True"
      ]
     },
     "execution_count": 37,
     "metadata": {},
     "output_type": "execute_result"
    }
   ],
   "source": [
    "'edad' in dictio.keys()"
   ]
  },
  {
   "cell_type": "markdown",
   "id": "cc42a3b1-9f68-41d3-bace-87d41075e87d",
   "metadata": {},
   "source": [
    "## CONJUNTOS (sets):"
   ]
  },
  {
   "cell_type": "markdown",
   "id": "cbb523de-8440-4adf-b20d-654fcf946e87",
   "metadata": {},
   "source": [
    "Son una estructura de datos usada para almacenar elementos de una manera similar a las listas, pero con ciertas diferencias.\n",
    "\n",
    "Los set en Python son un tipo que permite almacenar varios elementos y acceder a ellos de una forma muy similar a las listas pero con ciertas diferencias:\n",
    "\n",
    "* Los elementos de un set son único, lo que significa que no puede haber elementos duplicados.\n",
    "* Los set son desordenados, lo que significa que no mantienen el orden de cuando son declarados.\n",
    "* Sus elementos deben ser inmutables.\n",
    "* Para entender mejor los sets, es necesario entender ciertos conceptos matemáticos como la teoría de conjuntos.\n",
    "\n",
    "Para crear un set en Python se puede hacer con set() y pasando como entrada cualquier tipo iterable, como puede ser una lista. "
   ]
  },
  {
   "cell_type": "code",
   "execution_count": 38,
   "id": "f55de439-ab6f-47f5-a9cc-f5ded426b626",
   "metadata": {},
   "outputs": [
    {
     "data": {
      "text/plain": [
       "set()"
      ]
     },
     "execution_count": 38,
     "metadata": {},
     "output_type": "execute_result"
    }
   ],
   "source": [
    "set()"
   ]
  },
  {
   "cell_type": "markdown",
   "id": "5cc05f38-9b27-4f2c-97bd-31aee8377996",
   "metadata": {},
   "source": [
    "En una lista vemos que poniendo muchas veces los mismos numeros, al imprimirlo, aparecen todos y cada uno de los números, además de aparecer en el mismo orden:"
   ]
  },
  {
   "cell_type": "code",
   "execution_count": 39,
   "id": "f9a4e7a8-14a3-431e-b0db-816afb6f13b2",
   "metadata": {},
   "outputs": [
    {
     "data": {
      "text/plain": [
       "[1, 1, 1, 1, 4, 4, 4, 4, 2, 2, 0, 8, 7, 6, 6, 6]"
      ]
     },
     "execution_count": 39,
     "metadata": {},
     "output_type": "execute_result"
    }
   ],
   "source": [
    "lst = [1,1,1,1,4,4,4,4,2,2,0,8,7,6,6,6]\n",
    "lst"
   ]
  },
  {
   "cell_type": "markdown",
   "id": "195ae733-78db-4fd8-a8c1-237241e1bb97",
   "metadata": {},
   "source": [
    "En cambio, si lo transformamos en set:"
   ]
  },
  {
   "cell_type": "code",
   "execution_count": 40,
   "id": "0da011f6-f0cb-4756-a135-087c6b8e49c5",
   "metadata": {},
   "outputs": [
    {
     "data": {
      "text/plain": [
       "{0, 1, 2, 4, 6, 7, 8}"
      ]
     },
     "execution_count": 40,
     "metadata": {},
     "output_type": "execute_result"
    }
   ],
   "source": [
    "set(lst)"
   ]
  },
  {
   "cell_type": "markdown",
   "id": "7ff15610-5bb6-4374-9f8d-b58b44c45e4e",
   "metadata": {},
   "source": [
    "Podemos transformarlo en lista otra vez y así tenemos lo que nos interesa en una lista:"
   ]
  },
  {
   "cell_type": "code",
   "execution_count": 42,
   "id": "41e12d44-4a03-45b5-9646-84b2332202d3",
   "metadata": {},
   "outputs": [
    {
     "data": {
      "text/plain": [
       "[0, 1, 2, 4, 6, 7, 8]"
      ]
     },
     "execution_count": 42,
     "metadata": {},
     "output_type": "execute_result"
    }
   ],
   "source": [
    "lst_2 = list(set(lst))\n",
    "lst_2"
   ]
  },
  {
   "cell_type": "code",
   "execution_count": 43,
   "id": "3c94532b-2d7d-4bcd-ad20-c9a24b5d58cc",
   "metadata": {},
   "outputs": [
    {
     "name": "stdout",
     "output_type": "stream",
     "text": [
      "Help on class set in module builtins:\n",
      "\n",
      "class set(object)\n",
      " |  set() -> new empty set object\n",
      " |  set(iterable) -> new set object\n",
      " |  \n",
      " |  Build an unordered collection of unique elements.\n",
      " |  \n",
      " |  Methods defined here:\n",
      " |  \n",
      " |  __and__(self, value, /)\n",
      " |      Return self&value.\n",
      " |  \n",
      " |  __contains__(...)\n",
      " |      x.__contains__(y) <==> y in x.\n",
      " |  \n",
      " |  __eq__(self, value, /)\n",
      " |      Return self==value.\n",
      " |  \n",
      " |  __ge__(self, value, /)\n",
      " |      Return self>=value.\n",
      " |  \n",
      " |  __getattribute__(self, name, /)\n",
      " |      Return getattr(self, name).\n",
      " |  \n",
      " |  __gt__(self, value, /)\n",
      " |      Return self>value.\n",
      " |  \n",
      " |  __iand__(self, value, /)\n",
      " |      Return self&=value.\n",
      " |  \n",
      " |  __init__(self, /, *args, **kwargs)\n",
      " |      Initialize self.  See help(type(self)) for accurate signature.\n",
      " |  \n",
      " |  __ior__(self, value, /)\n",
      " |      Return self|=value.\n",
      " |  \n",
      " |  __isub__(self, value, /)\n",
      " |      Return self-=value.\n",
      " |  \n",
      " |  __iter__(self, /)\n",
      " |      Implement iter(self).\n",
      " |  \n",
      " |  __ixor__(self, value, /)\n",
      " |      Return self^=value.\n",
      " |  \n",
      " |  __le__(self, value, /)\n",
      " |      Return self<=value.\n",
      " |  \n",
      " |  __len__(self, /)\n",
      " |      Return len(self).\n",
      " |  \n",
      " |  __lt__(self, value, /)\n",
      " |      Return self<value.\n",
      " |  \n",
      " |  __ne__(self, value, /)\n",
      " |      Return self!=value.\n",
      " |  \n",
      " |  __or__(self, value, /)\n",
      " |      Return self|value.\n",
      " |  \n",
      " |  __rand__(self, value, /)\n",
      " |      Return value&self.\n",
      " |  \n",
      " |  __reduce__(...)\n",
      " |      Return state information for pickling.\n",
      " |  \n",
      " |  __repr__(self, /)\n",
      " |      Return repr(self).\n",
      " |  \n",
      " |  __ror__(self, value, /)\n",
      " |      Return value|self.\n",
      " |  \n",
      " |  __rsub__(self, value, /)\n",
      " |      Return value-self.\n",
      " |  \n",
      " |  __rxor__(self, value, /)\n",
      " |      Return value^self.\n",
      " |  \n",
      " |  __sizeof__(...)\n",
      " |      S.__sizeof__() -> size of S in memory, in bytes\n",
      " |  \n",
      " |  __sub__(self, value, /)\n",
      " |      Return self-value.\n",
      " |  \n",
      " |  __xor__(self, value, /)\n",
      " |      Return self^value.\n",
      " |  \n",
      " |  add(...)\n",
      " |      Add an element to a set.\n",
      " |      \n",
      " |      This has no effect if the element is already present.\n",
      " |  \n",
      " |  clear(...)\n",
      " |      Remove all elements from this set.\n",
      " |  \n",
      " |  copy(...)\n",
      " |      Return a shallow copy of a set.\n",
      " |  \n",
      " |  difference(...)\n",
      " |      Return the difference of two or more sets as a new set.\n",
      " |      \n",
      " |      (i.e. all elements that are in this set but not the others.)\n",
      " |  \n",
      " |  difference_update(...)\n",
      " |      Remove all elements of another set from this set.\n",
      " |  \n",
      " |  discard(...)\n",
      " |      Remove an element from a set if it is a member.\n",
      " |      \n",
      " |      Unlike set.remove(), the discard() method does not raise\n",
      " |      an exception when an element is missing from the set.\n",
      " |  \n",
      " |  intersection(...)\n",
      " |      Return the intersection of two sets as a new set.\n",
      " |      \n",
      " |      (i.e. all elements that are in both sets.)\n",
      " |  \n",
      " |  intersection_update(...)\n",
      " |      Update a set with the intersection of itself and another.\n",
      " |  \n",
      " |  isdisjoint(...)\n",
      " |      Return True if two sets have a null intersection.\n",
      " |  \n",
      " |  issubset(...)\n",
      " |      Report whether another set contains this set.\n",
      " |  \n",
      " |  issuperset(...)\n",
      " |      Report whether this set contains another set.\n",
      " |  \n",
      " |  pop(...)\n",
      " |      Remove and return an arbitrary set element.\n",
      " |      Raises KeyError if the set is empty.\n",
      " |  \n",
      " |  remove(...)\n",
      " |      Remove an element from a set; it must be a member.\n",
      " |      \n",
      " |      If the element is not a member, raise a KeyError.\n",
      " |  \n",
      " |  symmetric_difference(...)\n",
      " |      Return the symmetric difference of two sets as a new set.\n",
      " |      \n",
      " |      (i.e. all elements that are in exactly one of the sets.)\n",
      " |  \n",
      " |  symmetric_difference_update(...)\n",
      " |      Update a set with the symmetric difference of itself and another.\n",
      " |  \n",
      " |  union(...)\n",
      " |      Return the union of sets as a new set.\n",
      " |      \n",
      " |      (i.e. all elements that are in either set.)\n",
      " |  \n",
      " |  update(...)\n",
      " |      Update a set with the union of itself and others.\n",
      " |  \n",
      " |  ----------------------------------------------------------------------\n",
      " |  Class methods defined here:\n",
      " |  \n",
      " |  __class_getitem__(...) from builtins.type\n",
      " |      See PEP 585\n",
      " |  \n",
      " |  ----------------------------------------------------------------------\n",
      " |  Static methods defined here:\n",
      " |  \n",
      " |  __new__(*args, **kwargs) from builtins.type\n",
      " |      Create and return a new object.  See help(type) for accurate signature.\n",
      " |  \n",
      " |  ----------------------------------------------------------------------\n",
      " |  Data and other attributes defined here:\n",
      " |  \n",
      " |  __hash__ = None\n",
      "\n"
     ]
    }
   ],
   "source": [
    "help(set)"
   ]
  },
  {
   "cell_type": "code",
   "execution_count": 44,
   "id": "5c5ddd3a-37bb-4872-91a6-b298ce553a76",
   "metadata": {},
   "outputs": [],
   "source": [
    "set_1 = set([1,2,3,4])\n",
    "\n",
    "set_2 = set([2,3,5,7])"
   ]
  },
  {
   "cell_type": "code",
   "execution_count": 45,
   "id": "090dda2b-8c02-499b-9cc8-a4c939765831",
   "metadata": {},
   "outputs": [
    {
     "data": {
      "text/plain": [
       "{2, 3}"
      ]
     },
     "execution_count": 45,
     "metadata": {},
     "output_type": "execute_result"
    }
   ],
   "source": [
    "set_1.intersection(set_2)"
   ]
  },
  {
   "cell_type": "code",
   "execution_count": 46,
   "id": "f0e9472a-a327-4854-a5c0-b03fcbccf457",
   "metadata": {},
   "outputs": [
    {
     "data": {
      "text/plain": [
       "{1, 2, 3, 4, 5, 7}"
      ]
     },
     "execution_count": 46,
     "metadata": {},
     "output_type": "execute_result"
    }
   ],
   "source": [
    "set_1.union(set_2)"
   ]
  }
 ],
 "metadata": {
  "kernelspec": {
   "display_name": "Python 3 (ipykernel)",
   "language": "python",
   "name": "python3"
  },
  "language_info": {
   "codemirror_mode": {
    "name": "ipython",
    "version": 3
   },
   "file_extension": ".py",
   "mimetype": "text/x-python",
   "name": "python",
   "nbconvert_exporter": "python",
   "pygments_lexer": "ipython3",
   "version": "3.11.7"
  }
 },
 "nbformat": 4,
 "nbformat_minor": 5
}
