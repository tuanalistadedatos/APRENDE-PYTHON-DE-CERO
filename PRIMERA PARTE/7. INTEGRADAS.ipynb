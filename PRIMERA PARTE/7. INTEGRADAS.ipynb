{
 "cells": [
  {
   "cell_type": "markdown",
   "id": "85b69255-dce4-4518-b98f-cbf102607812",
   "metadata": {},
   "source": [
    "# _FUNCIONES INTEGRADAS:_"
   ]
  },
  {
   "cell_type": "code",
   "execution_count": 3,
   "id": "1d83352d-f4e9-42ea-beef-2b72bc099715",
   "metadata": {},
   "outputs": [
    {
     "name": "stdout",
     "output_type": "stream",
     "text": [
      "+------------------------+------------------------+------------------------+------------------------+------------------------+\n",
      "| Funciones integradas   | Funciones integradas   | Funciones integradas   | Funciones integradas   | Funciones integradas   |\n",
      "+========================+========================+========================+========================+========================+\n",
      "| abs()                  | delattr()              | hash()                 | memoryview()           | set()                  |\n",
      "+------------------------+------------------------+------------------------+------------------------+------------------------+\n",
      "| all()                  | dict()                 | help()                 | min()                  | setattr()              |\n",
      "+------------------------+------------------------+------------------------+------------------------+------------------------+\n",
      "| any()                  | dir()                  | hex()                  | next()                 | slice()                |\n",
      "+------------------------+------------------------+------------------------+------------------------+------------------------+\n",
      "| ascii()                | divmod()               | id()                   | object()               | sorted()               |\n",
      "+------------------------+------------------------+------------------------+------------------------+------------------------+\n",
      "| bin()                  | enumerate()            | input()                | oct()                  | staticmethod()         |\n",
      "+------------------------+------------------------+------------------------+------------------------+------------------------+\n",
      "| bool()                 | eval()                 | int()                  | open()                 | str()                  |\n",
      "+------------------------+------------------------+------------------------+------------------------+------------------------+\n",
      "| breakpoint()           | exec()                 | isinstance()           | ord()                  | sum()                  |\n",
      "+------------------------+------------------------+------------------------+------------------------+------------------------+\n",
      "| bytearray()            | filter()               | issubclass()           | pow()                  | super()                |\n",
      "+------------------------+------------------------+------------------------+------------------------+------------------------+\n",
      "| bytes()                | float()                | iter()                 | print()                | tuple()                |\n",
      "+------------------------+------------------------+------------------------+------------------------+------------------------+\n",
      "| callable()             | format()               | len()                  | property()             | type()                 |\n",
      "+------------------------+------------------------+------------------------+------------------------+------------------------+\n",
      "| chr()                  | frozenset()            | list()                 | range()                | vars()                 |\n",
      "+------------------------+------------------------+------------------------+------------------------+------------------------+\n",
      "| classmethod()          | getattr()              | locals()               | repr()                 | zip()                  |\n",
      "+------------------------+------------------------+------------------------+------------------------+------------------------+\n",
      "| compile()              | globals()              | map()                  | reversed()             | __import__()           |\n",
      "+------------------------+------------------------+------------------------+------------------------+------------------------+\n",
      "| complex()              | hasattr()              | max()                  | round()                |                        |\n",
      "+------------------------+------------------------+------------------------+------------------------+------------------------+\n"
     ]
    }
   ],
   "source": [
    "from tabulate import tabulate\n",
    "\n",
    "# Datos de la tabla\n",
    "data = [\n",
    "    [\"abs()\", \"delattr()\", \"hash()\", \"memoryview()\", \"set()\"],\n",
    "    [\"all()\", \"dict()\", \"help()\", \"min()\", \"setattr()\"],\n",
    "    [\"any()\", \"dir()\", \"hex()\", \"next()\", \"slice()\"],\n",
    "    [\"ascii()\", \"divmod()\", \"id()\", \"object()\", \"sorted()\"],\n",
    "    [\"bin()\", \"enumerate()\", \"input()\", \"oct()\", \"staticmethod()\"],\n",
    "    [\"bool()\", \"eval()\", \"int()\", \"open()\", \"str()\"],\n",
    "    [\"breakpoint()\", \"exec()\", \"isinstance()\", \"ord()\", \"sum()\"],\n",
    "    [\"bytearray()\", \"filter()\", \"issubclass()\", \"pow()\", \"super()\"],\n",
    "    [\"bytes()\", \"float()\", \"iter()\", \"print()\", \"tuple()\"],\n",
    "    [\"callable()\", \"format()\", \"len()\", \"property()\", \"type()\"],\n",
    "    [\"chr()\", \"frozenset()\", \"list()\", \"range()\", \"vars()\"],\n",
    "    [\"classmethod()\", \"getattr()\", \"locals()\", \"repr()\", \"zip()\"],\n",
    "    [\"compile()\", \"globals()\", \"map()\", \"reversed()\", \"__import__()\"],\n",
    "    [\"complex()\", \"hasattr()\", \"max()\", \"round()\", \"\"]\n",
    "]\n",
    "\n",
    "# Encabezados de la tabla\n",
    "headers = [\"Funciones integradas\"] * 5\n",
    "\n",
    "# Mostrar la tabla\n",
    "print(tabulate(data, headers, tablefmt=\"grid\"))\n"
   ]
  },
  {
   "cell_type": "markdown",
   "id": "4f182576-1fc0-41d5-abe5-14506e49afbd",
   "metadata": {},
   "source": [
    "## TODA LA INFORMACIÓN EN EL SIGUIENTE ENLACE:"
   ]
  },
  {
   "cell_type": "markdown",
   "id": "6e5b3032-8806-4239-98f7-f813d2d101c5",
   "metadata": {},
   "source": [
    "https://docs.python.org/3.9/library/functions.html"
   ]
  },
  {
   "cell_type": "code",
   "execution_count": 1,
   "id": "af73c859-906d-448d-aba0-766f0c509236",
   "metadata": {},
   "outputs": [
    {
     "data": {
      "text/plain": [
       "8"
      ]
     },
     "execution_count": 1,
     "metadata": {},
     "output_type": "execute_result"
    }
   ],
   "source": [
    "abs(-8)"
   ]
  }
 ],
 "metadata": {
  "kernelspec": {
   "display_name": "Python 3 (ipykernel)",
   "language": "python",
   "name": "python3"
  },
  "language_info": {
   "codemirror_mode": {
    "name": "ipython",
    "version": 3
   },
   "file_extension": ".py",
   "mimetype": "text/x-python",
   "name": "python",
   "nbconvert_exporter": "python",
   "pygments_lexer": "ipython3",
   "version": "3.11.7"
  }
 },
 "nbformat": 4,
 "nbformat_minor": 5
}
