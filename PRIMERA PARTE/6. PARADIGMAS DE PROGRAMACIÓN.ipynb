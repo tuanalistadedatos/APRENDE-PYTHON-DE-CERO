{
 "cells": [
  {
   "cell_type": "markdown",
   "id": "ab59a9b2-6126-4634-976e-886155227bc6",
   "metadata": {},
   "source": [
    "# _PARADIGMAS DE PROGRAMACIÓN:_"
   ]
  },
  {
   "cell_type": "code",
   "execution_count": 115,
   "id": "a1e14b7f-5ca0-4812-9d4a-6f55845026da",
   "metadata": {},
   "outputs": [],
   "source": [
    "estudiantes = ['pepe', 'juan', 'ana', 'maría']\n",
    "\n",
    "notas = [3, 5, 8, 9]"
   ]
  },
  {
   "cell_type": "code",
   "execution_count": 116,
   "id": "4de70dff-8e54-4ff5-bace-042cf53c9853",
   "metadata": {},
   "outputs": [
    {
     "data": {
      "text/plain": [
       "['pepe', 'juan', 'ana', 'maría']"
      ]
     },
     "execution_count": 116,
     "metadata": {},
     "output_type": "execute_result"
    }
   ],
   "source": [
    "estudiantes"
   ]
  },
  {
   "cell_type": "code",
   "execution_count": 117,
   "id": "3cdbe259-59e8-4b21-bd6f-9cc91fe1f902",
   "metadata": {},
   "outputs": [
    {
     "data": {
      "text/plain": [
       "[3, 5, 8, 9]"
      ]
     },
     "execution_count": 117,
     "metadata": {},
     "output_type": "execute_result"
    }
   ],
   "source": [
    "notas"
   ]
  },
  {
   "cell_type": "markdown",
   "id": "3fddc2cc-c83f-4395-bc00-e23eb5c78a14",
   "metadata": {},
   "source": [
    "## Procedimental"
   ]
  },
  {
   "cell_type": "markdown",
   "id": "e6f78f36-d57e-4239-b113-622646eb9c9f",
   "metadata": {},
   "source": [
    "El paradigma procedimental en Python realiza una ejecución secuencia de distintas funciones que encapsulan bloques de código que realizan tareas específicas; organizando las mismas mediante bucles y otras estructuras de control como condicionales."
   ]
  },
  {
   "cell_type": "code",
   "execution_count": 118,
   "id": "1789d451-766c-41b6-8547-ec5305e028ff",
   "metadata": {},
   "outputs": [
    {
     "name": "stdin",
     "output_type": "stream",
     "text": [
      "Introduce el nombre de un estudiante:  Manuel\n",
      "Introduce una nota:  7.5\n"
     ]
    },
    {
     "name": "stdout",
     "output_type": "stream",
     "text": [
      "['Pepe', 'Juan', 'Ana', 'María', 'Manuel']\n",
      "[3, 5, 8, 9, 7.5]\n"
     ]
    }
   ],
   "source": [
    "nombre = input('Introduce el nombre de un estudiante: ')\n",
    "\n",
    "estudiantes.append(nombre)\n",
    "\n",
    "for nombre in range (len(estudiantes)):\n",
    "    estudiantes[nombre] = estudiantes[nombre].capitalize()\n",
    "\n",
    "nota = input('Introduce una nota: ')\n",
    "\n",
    "nota = float(nota)\n",
    "\n",
    "notas.append(nota)\n",
    "\n",
    "print(estudiantes)\n",
    "\n",
    "print(notas)"
   ]
  },
  {
   "cell_type": "markdown",
   "id": "e12ed775-31a0-459d-9161-e0998ac1615f",
   "metadata": {},
   "source": [
    "## Funcional"
   ]
  },
  {
   "cell_type": "markdown",
   "id": "c2931f97-0708-485e-abbe-19a14b769155",
   "metadata": {},
   "source": [
    "En el paradigma funcional, como dice el nombre, la unidad principal son las funciones; haciendo gran uso de lambdas, `map()`, `filter()` y `reduce()`.  Este enfoque promueve el uso de funciones sencillas, sin efectos secundarios; evitando el uso de condicionales o bucles complejos que modifiquen los datos y reemplazándolos por múltiples funciones más sencillas que conectan entre sí."
   ]
  },
  {
   "cell_type": "code",
   "execution_count": 119,
   "id": "8bdadc14-5d34-4d79-b563-204a506501c7",
   "metadata": {},
   "outputs": [],
   "source": [
    "def estudiar(estudiantes, notas):\n",
    "    \n",
    "    nombre = input('Introduce el nombre de un estudiante')\n",
    "    \n",
    "    estudiantes.append(nombre)\n",
    "    \n",
    "    estudiantes[0] = estudiantes[0].capitalize()\n",
    "    \n",
    "    \n",
    "    nota = float(input('Introduce una nota'))\n",
    "    \n",
    "    notas.append(nota)\n",
    "    \n",
    "    print(estudiantes)\n",
    "    print(notas)\n",
    "    \n",
    "    return [estudiantes, notas]"
   ]
  },
  {
   "cell_type": "code",
   "execution_count": 120,
   "id": "10b5284e-f414-43b1-909e-f68119d1a19a",
   "metadata": {},
   "outputs": [
    {
     "name": "stdin",
     "output_type": "stream",
     "text": [
      "Introduce el nombre de un estudiante Alex\n",
      "Introduce una nota 4.9\n"
     ]
    },
    {
     "name": "stdout",
     "output_type": "stream",
     "text": [
      "['Pepe', 'Juan', 'Ana', 'María', 'Manuel', 'Alex']\n",
      "[3, 5, 8, 9, 7.5, 4.9]\n"
     ]
    }
   ],
   "source": [
    "variable = estudiar(estudiantes, notas)"
   ]
  },
  {
   "cell_type": "code",
   "execution_count": 110,
   "id": "cc36c556-dadd-4a44-9118-6543bf42cced",
   "metadata": {},
   "outputs": [
    {
     "name": "stdout",
     "output_type": "stream",
     "text": [
      "Cuadrados: [1, 4, 9, 16, 25, 36, 49, 64, 81, 100]\n",
      "Números pares: [2, 4, 6, 8, 10]\n",
      "Suma total: 55\n"
     ]
    }
   ],
   "source": [
    "from functools import reduce\n",
    "\n",
    "numeros = [1, 2, 3, 4, 5, 6, 7, 8, 9, 10]\n",
    "\n",
    "def cuadrado(numero):\n",
    "    return numero ** 2\n",
    "\n",
    "def es_par(numero):\n",
    "    return numero % 2 == 0\n",
    "\n",
    "def suma(a, b):\n",
    "    return a + b\n",
    "\n",
    "# Usando map() para elevar al cuadrado cada número\n",
    "cuadrados = list(map(cuadrado, numeros))\n",
    "\n",
    "# Usando filter() para obtener números pares\n",
    "numeros_pares = list(filter(es_par, numeros))\n",
    "\n",
    "# Usando reduce() para sumar todos los números\n",
    "suma_total = reduce(suma, numeros)\n",
    "\n",
    "print(\"Cuadrados:\", cuadrados)\n",
    "print(\"Números pares:\", numeros_pares)\n",
    "print(\"Suma total:\", suma_total)"
   ]
  },
  {
   "cell_type": "code",
   "execution_count": null,
   "id": "53821448-17b6-4ffa-ba84-c9363b1eee4a",
   "metadata": {},
   "outputs": [],
   "source": []
  }
 ],
 "metadata": {
  "kernelspec": {
   "display_name": "Python 3 (ipykernel)",
   "language": "python",
   "name": "python3"
  },
  "language_info": {
   "codemirror_mode": {
    "name": "ipython",
    "version": 3
   },
   "file_extension": ".py",
   "mimetype": "text/x-python",
   "name": "python",
   "nbconvert_exporter": "python",
   "pygments_lexer": "ipython3",
   "version": "3.11.7"
  }
 },
 "nbformat": 4,
 "nbformat_minor": 5
}
