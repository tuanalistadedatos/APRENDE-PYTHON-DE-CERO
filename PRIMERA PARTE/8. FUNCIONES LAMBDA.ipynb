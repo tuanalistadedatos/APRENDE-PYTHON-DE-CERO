{
 "cells": [
  {
   "cell_type": "markdown",
   "id": "21474de6-82c8-4515-93e3-72df43ac4708",
   "metadata": {},
   "source": [
    "# _FUNCIONES LAMBDA:_"
   ]
  },
  {
   "cell_type": "markdown",
   "id": "abf28f2b-ab71-4c9f-963e-5c8879c022ac",
   "metadata": {},
   "source": [
    "Las funciones \"lambda\" o anónimas son un tipo de funciones en Python que se definen en una línea y cuyo código a ejecutar suele ser pequeño. Se podría decir que:\n",
    "\n",
    "\"Las Lambdas de Python son solo una notación abreviada si eres demasiado vago para definir una función\""
   ]
  },
  {
   "cell_type": "code",
   "execution_count": 4,
   "id": "4f4c1c17-3deb-4e6f-8b87-54e8218e2322",
   "metadata": {},
   "outputs": [],
   "source": [
    "# Una función que suma dos números:\n",
    "\n",
    "def suma(a, b):\n",
    "    return a+b"
   ]
  },
  {
   "cell_type": "code",
   "execution_count": 5,
   "id": "31282fea-ba99-4d19-8917-fbbf33360d3a",
   "metadata": {},
   "outputs": [
    {
     "data": {
      "text/plain": [
       "<function __main__.<lambda>(a, b)>"
      ]
     },
     "execution_count": 5,
     "metadata": {},
     "output_type": "execute_result"
    }
   ],
   "source": [
    "# Se puede expresar lo mismo con una función lambda:\n",
    "\n",
    "lambda a, b: a + b"
   ]
  },
  {
   "cell_type": "code",
   "execution_count": 8,
   "id": "8585493a-f320-462c-8500-9544c749bdd8",
   "metadata": {},
   "outputs": [],
   "source": [
    "# La función es totalmente inútil si no se le añade un nombre:\n",
    "\n",
    "suma = lambda a, b: a + b"
   ]
  },
  {
   "cell_type": "code",
   "execution_count": 9,
   "id": "22a5491e-49d9-473e-bfac-7b5766f899ba",
   "metadata": {},
   "outputs": [
    {
     "data": {
      "text/plain": [
       "6"
      ]
     },
     "execution_count": 9,
     "metadata": {},
     "output_type": "execute_result"
    }
   ],
   "source": [
    "suma(2, 4)"
   ]
  },
  {
   "cell_type": "code",
   "execution_count": 10,
   "id": "f4066cc4-b9b6-46ab-88c9-aa0a18091444",
   "metadata": {},
   "outputs": [
    {
     "data": {
      "text/plain": [
       "6"
      ]
     },
     "execution_count": 10,
     "metadata": {},
     "output_type": "execute_result"
    }
   ],
   "source": [
    "# A pesar de que las funciones lambda tienen muchas limitaciones frente a las funciones normales,\n",
    "# comparten gran cantidad de funcionalidades. \n",
    "# Es posible tener argumentos con valor asignado por defecto.\n",
    "\n",
    "(lambda a, b, c=3: a + b + c)(1, 2)"
   ]
  },
  {
   "cell_type": "code",
   "execution_count": 11,
   "id": "6cd6f7ec-a23c-43cf-bf70-8feb84356b6b",
   "metadata": {},
   "outputs": [
    {
     "data": {
      "text/plain": [
       "6"
      ]
     },
     "execution_count": 11,
     "metadata": {},
     "output_type": "execute_result"
    }
   ],
   "source": [
    "# También se pueden pasar los parámetros indicando su nombre.\n",
    "\n",
    "(lambda a, b, c: a + b + c)(a=1, b=2, c=3)"
   ]
  },
  {
   "cell_type": "code",
   "execution_count": 12,
   "id": "94f2f57d-a346-463f-b12a-a4454dc3d9f6",
   "metadata": {},
   "outputs": [
    {
     "data": {
      "text/plain": [
       "10"
      ]
     },
     "execution_count": 12,
     "metadata": {},
     "output_type": "execute_result"
    }
   ],
   "source": [
    "(lambda lst: sum(lst))([1,2,3,4])"
   ]
  },
  {
   "cell_type": "code",
   "execution_count": null,
   "id": "81a10825-bf97-4a72-93a2-861adf6a8199",
   "metadata": {},
   "outputs": [],
   "source": []
  }
 ],
 "metadata": {
  "kernelspec": {
   "display_name": "Python 3 (ipykernel)",
   "language": "python",
   "name": "python3"
  },
  "language_info": {
   "codemirror_mode": {
    "name": "ipython",
    "version": 3
   },
   "file_extension": ".py",
   "mimetype": "text/x-python",
   "name": "python",
   "nbconvert_exporter": "python",
   "pygments_lexer": "ipython3",
   "version": "3.11.7"
  }
 },
 "nbformat": 4,
 "nbformat_minor": 5
}
