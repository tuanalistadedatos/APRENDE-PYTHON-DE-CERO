{
 "cells": [
  {
   "cell_type": "markdown",
   "id": "e72800e5-348b-47ff-b49d-9e8c4be08317",
   "metadata": {},
   "source": [
    "# _REPASO OPERACIONES_"
   ]
  },
  {
   "cell_type": "markdown",
   "id": "e0eb2092-aae9-47fa-88bc-4f4aecc4b7e5",
   "metadata": {},
   "source": [
    "## Operadores Aritméticos:"
   ]
  },
  {
   "cell_type": "code",
   "execution_count": 15,
   "id": "c9e9c199-a402-49d8-a94a-87bb0b7a82e1",
   "metadata": {},
   "outputs": [
    {
     "name": "stdout",
     "output_type": "stream",
     "text": [
      "+------------+----------------+---------------+\n",
      "| Operador   | Nombre         | Ejemplo       |\n",
      "+============+================+===============+\n",
      "| +          | Suma           | x + y = 13    |\n",
      "+------------+----------------+---------------+\n",
      "| -          | Resta          | x - y = 7     |\n",
      "+------------+----------------+---------------+\n",
      "| *          | Multiplicación | x * y = 30    |\n",
      "+------------+----------------+---------------+\n",
      "| /          | División       | x / y = 3.333 |\n",
      "+------------+----------------+---------------+\n",
      "| %          | Módulo         | x % y = 1     |\n",
      "+------------+----------------+---------------+\n",
      "| **         | Exponente      | x ** y = 1000 |\n",
      "+------------+----------------+---------------+\n",
      "| //         | Cociente       | x // y = 3    |\n",
      "+------------+----------------+---------------+\n"
     ]
    }
   ],
   "source": [
    "from tabulate import tabulate\n",
    "\n",
    "# Datos para la tabla\n",
    "data = [\n",
    "    [\"+\", \"Suma\", \"x + y = 13\"],\n",
    "    [\"-\", \"Resta\", \"x - y = 7\"],\n",
    "    [\"*\", \"Multiplicación\", \"x * y = 30\"],\n",
    "    [\"/\", \"División\", \"x / y = 3.333\"],\n",
    "    [\"%\", \"Módulo\", \"x % y = 1\"],\n",
    "    [\"**\", \"Exponente\", \"x ** y = 1000\"],\n",
    "    [\"//\", \"Cociente\", \"x // y = 3\"]\n",
    "]\n",
    "\n",
    "# Encabezados\n",
    "headers = [\"Operador\", \"Nombre\", \"Ejemplo\"]\n",
    "\n",
    "# Mostrar la tabla\n",
    "print(tabulate(data, headers, tablefmt=\"grid\"))\n"
   ]
  },
  {
   "cell_type": "markdown",
   "id": "f1a519a7-a513-4f10-a458-0becec58afa3",
   "metadata": {},
   "source": [
    "### +"
   ]
  },
  {
   "cell_type": "markdown",
   "id": "bb7f21c5-18b0-421d-8426-0fb2a33fb76a",
   "metadata": {},
   "source": [
    "Suma los números presentes a la izquierda y derecha del operador. Recalco lo de números porque no tendría sentido sumar dos cadenas de texto, o dos listas, pero en Python es posible hacer este tipo de cosas."
   ]
  },
  {
   "cell_type": "code",
   "execution_count": 16,
   "id": "fe14f07c-c52a-4809-823b-805856fe4621",
   "metadata": {},
   "outputs": [
    {
     "data": {
      "text/plain": [
       "13"
      ]
     },
     "execution_count": 16,
     "metadata": {},
     "output_type": "execute_result"
    }
   ],
   "source": [
    "10 + 3"
   ]
  },
  {
   "cell_type": "markdown",
   "id": "3b8e9d0a-e8f9-48ad-94ca-ea0951476381",
   "metadata": {},
   "source": [
    "### -"
   ]
  },
  {
   "cell_type": "markdown",
   "id": "31f50454-65c8-497b-9ffb-019533d4884e",
   "metadata": {},
   "source": [
    "Resta los números presentes a la izquierda y derecha del operador. A diferencia el operador + en este caso no podemos restar cadenas o listas."
   ]
  },
  {
   "cell_type": "code",
   "execution_count": 17,
   "id": "840c6323-6250-459d-b854-ec4d861802b1",
   "metadata": {},
   "outputs": [
    {
     "data": {
      "text/plain": [
       "7"
      ]
     },
     "execution_count": 17,
     "metadata": {},
     "output_type": "execute_result"
    }
   ],
   "source": [
    "10 - 3"
   ]
  },
  {
   "cell_type": "markdown",
   "id": "0c5a1403-ec9c-4a35-8173-e62dffcfc780",
   "metadata": {},
   "source": [
    "### *"
   ]
  },
  {
   "cell_type": "markdown",
   "id": "a90e8f09-084b-42e1-90e9-d520693c9bf2",
   "metadata": {},
   "source": [
    "Multiplica los números presentes a la izquierda y derecha del operador."
   ]
  },
  {
   "cell_type": "code",
   "execution_count": 20,
   "id": "3560fd5b-eae3-49fa-ab1a-ee56e3838a7c",
   "metadata": {},
   "outputs": [
    {
     "data": {
      "text/plain": [
       "30"
      ]
     },
     "execution_count": 20,
     "metadata": {},
     "output_type": "execute_result"
    }
   ],
   "source": [
    "10 * 3"
   ]
  },
  {
   "cell_type": "markdown",
   "id": "40c4d9ed-54e2-43b4-baf6-ddc485f37589",
   "metadata": {},
   "source": [
    "### /"
   ]
  },
  {
   "cell_type": "markdown",
   "id": "c2e92ffb-0046-4584-b823-369a971681bc",
   "metadata": {},
   "source": [
    "Divide los números presentes a la izquierda y derecha del operador. "
   ]
  },
  {
   "cell_type": "code",
   "execution_count": 21,
   "id": "a9970800-c4ba-412b-af2d-7cd7783fe545",
   "metadata": {},
   "outputs": [
    {
     "data": {
      "text/plain": [
       "3.3333333333333335"
      ]
     },
     "execution_count": 21,
     "metadata": {},
     "output_type": "execute_result"
    }
   ],
   "source": [
    "10 / 3"
   ]
  },
  {
   "cell_type": "markdown",
   "id": "ae65b049-8ce4-4776-b0e6-e4f2cb5cb151",
   "metadata": {},
   "source": [
    "### %"
   ]
  },
  {
   "cell_type": "markdown",
   "id": "1496ab1d-a925-4217-8e72-3302a479218e",
   "metadata": {},
   "source": [
    "Realiza la operación módulo entre los números presentes a la izquierda y la derecha. Se trata de calcular el resto de la división entera entre ambos números. Es decir, si dividimos 10 entre 3, el cociente sería 3 y el resto 1. Ese resto es lo que calcula el módulo."
   ]
  },
  {
   "cell_type": "code",
   "execution_count": 22,
   "id": "68311d5e-898a-4910-bc39-014a9769e810",
   "metadata": {},
   "outputs": [
    {
     "data": {
      "text/plain": [
       "1"
      ]
     },
     "execution_count": 22,
     "metadata": {},
     "output_type": "execute_result"
    }
   ],
   "source": [
    "10 % 3"
   ]
  },
  {
   "cell_type": "markdown",
   "id": "778510f6-4bca-4735-8b1a-041aead31a3b",
   "metadata": {},
   "source": [
    "### **"
   ]
  },
  {
   "cell_type": "markdown",
   "id": "b72e7e2b-81bc-478a-83ba-e10c3ea4bae3",
   "metadata": {},
   "source": [
    "Realiza el exponente del número a la izquierda elevado al número de la derecha."
   ]
  },
  {
   "cell_type": "code",
   "execution_count": 23,
   "id": "2a2a1dcd-f1db-416b-9889-bfee6c2de467",
   "metadata": {},
   "outputs": [
    {
     "data": {
      "text/plain": [
       "1000"
      ]
     },
     "execution_count": 23,
     "metadata": {},
     "output_type": "execute_result"
    }
   ],
   "source": [
    "10**3"
   ]
  },
  {
   "cell_type": "markdown",
   "id": "5f31d59e-6069-4ebc-b77d-10e0d0efc1fb",
   "metadata": {},
   "source": [
    "### //"
   ]
  },
  {
   "cell_type": "markdown",
   "id": "82e26da0-e945-44ba-acc5-34f85d829a5c",
   "metadata": {},
   "source": [
    "Calcula el cociente de la división entre los números que están a su izquierda y derecha."
   ]
  },
  {
   "cell_type": "code",
   "execution_count": 24,
   "id": "03eeef95-94bd-4bc8-96b8-65eb8b68c9d9",
   "metadata": {},
   "outputs": [
    {
     "data": {
      "text/plain": [
       "3"
      ]
     },
     "execution_count": 24,
     "metadata": {},
     "output_type": "execute_result"
    }
   ],
   "source": [
    "10 // 3"
   ]
  },
  {
   "cell_type": "markdown",
   "id": "d2f3d1cd-7d0d-40d1-b7cc-1e5852fed2f8",
   "metadata": {},
   "source": [
    "## Operadores de Asignación:"
   ]
  },
  {
   "cell_type": "markdown",
   "id": "66a17775-60bb-413b-a048-32a36ca69d9c",
   "metadata": {},
   "source": [
    "En este caso, los operadores de asignación o assignment operators nos permiten realizar una operación y almacenar su resultado en la variable inicial. Podemos ver como realmente el único operador nuevo es el =. El resto son abreviaciones de otros operadores que habíamos visto con anterioridad. Ponemos un ejemplo con x=7"
   ]
  },
  {
   "cell_type": "code",
   "execution_count": 26,
   "id": "6a5d1c04-9352-402b-9e42-1de5db3f374d",
   "metadata": {},
   "outputs": [
    {
     "name": "stdout",
     "output_type": "stream",
     "text": [
      "+------------+-----------+-----------------+\n",
      "| Operador   | Ejemplo   | Equivalente     |\n",
      "+============+===========+=================+\n",
      "| =          | x = 7     | x = 7           |\n",
      "+------------+-----------+-----------------+\n",
      "| +=         | x += 2    | x = x + 2 = 7   |\n",
      "+------------+-----------+-----------------+\n",
      "| -=         | x -= 2    | x = x - 2 = 5   |\n",
      "+------------+-----------+-----------------+\n",
      "| *=         | x *= 2    | x = x * 2 = 14  |\n",
      "+------------+-----------+-----------------+\n",
      "| /=         | x /= 2    | x = x / 2 = 3.5 |\n",
      "+------------+-----------+-----------------+\n",
      "| %=         | x %= 2    | x = x % 2 = 1   |\n",
      "+------------+-----------+-----------------+\n",
      "| //=        | x //= 2   | x = x // 2 = 3  |\n",
      "+------------+-----------+-----------------+\n",
      "| **=        | x **= 2   | x = x ** 2 = 49 |\n",
      "+------------+-----------+-----------------+\n"
     ]
    }
   ],
   "source": [
    "# Datos para la tabla\n",
    "data = [\n",
    "    [\"=\", \"x = 7\", \"x = 7\"],\n",
    "    [\"+=\", \"x += 2\", \"x = x + 2 = 7\"],\n",
    "    [\"-=\", \"x -= 2\", \"x = x - 2 = 5\"],\n",
    "    [\"*=\", \"x *= 2\", \"x = x * 2 = 14\"],\n",
    "    [\"/=\", \"x /= 2\", \"x = x / 2 = 3.5\"],\n",
    "    [\"%=\", \"x %= 2\", \"x = x % 2 = 1\"],\n",
    "    [\"//=\", \"x //= 2\", \"x = x // 2 = 3\"],\n",
    "    [\"**=\", \"x **= 2\", \"x = x ** 2 = 49\"]\n",
    "]\n",
    "\n",
    "# Encabezados de la tabla\n",
    "headers = [\"Operador\", \"Ejemplo\", \"Equivalente\"]\n",
    "\n",
    "# Mostrar la tabla\n",
    "print(tabulate(data, headers, tablefmt=\"grid\"))"
   ]
  },
  {
   "cell_type": "markdown",
   "id": "4dc40609-84bd-4d9a-8a6c-558d8d8eae11",
   "metadata": {},
   "source": [
    "## Operadores de Comparación:"
   ]
  },
  {
   "cell_type": "markdown",
   "id": "a55a7481-e108-4905-8a9e-71d48377d744",
   "metadata": {},
   "source": [
    "### > (Mayor que)"
   ]
  },
  {
   "cell_type": "markdown",
   "id": "761f981f-7006-492b-85f8-7c91acdc8bab",
   "metadata": {},
   "source": [
    "True si el operando de la izquierda es estrictamente mayor que el de la derecha; False en caso contrario."
   ]
  },
  {
   "cell_type": "markdown",
   "id": "75dccd8d-3cec-448f-8f87-3eb4f6ee5267",
   "metadata": {},
   "source": [
    "### >= (Mayor o igual que)"
   ]
  },
  {
   "cell_type": "markdown",
   "id": "c1052be1-24b9-4f5d-b6dc-ac3a893e3b44",
   "metadata": {},
   "source": [
    "True si el operando de la izquierda es mayor o igual que el de la derecha; False en caso contrario."
   ]
  },
  {
   "cell_type": "markdown",
   "id": "acb76c34-5fd2-482f-bf91-9a427583bd62",
   "metadata": {},
   "source": [
    "### < (Menor que)"
   ]
  },
  {
   "cell_type": "markdown",
   "id": "c6288f42-ba76-4b70-bfc9-94ef567892a0",
   "metadata": {},
   "source": [
    "True si el operando de la izquierda es estrictamente menor que el de la derecha; False en caso contrario."
   ]
  },
  {
   "cell_type": "markdown",
   "id": "7cc32635-3c59-4a7d-b0c6-2765428d0e12",
   "metadata": {},
   "source": [
    "### <= (Menor igual que)"
   ]
  },
  {
   "cell_type": "markdown",
   "id": "69142dfc-7a06-4021-ae56-267c57c44da5",
   "metadata": {},
   "source": [
    "True si el operando de la izquierda es menor o igual que el de la derecha; False en caso contrario."
   ]
  },
  {
   "cell_type": "markdown",
   "id": "9e9838bc-7547-4d06-824d-5325f841e325",
   "metadata": {},
   "source": [
    "### == (Igual que)"
   ]
  },
  {
   "cell_type": "markdown",
   "id": "3fc44c46-ba39-4e13-95a5-7e41011e735f",
   "metadata": {},
   "source": [
    "True si el operando de la izquierda es igual que el de la derecha; False en caso contrario."
   ]
  },
  {
   "cell_type": "markdown",
   "id": "79e51b37-aa72-4749-845a-e5b34a312f94",
   "metadata": {},
   "source": [
    "### != (Diferente que)"
   ]
  },
  {
   "cell_type": "markdown",
   "id": "0ef5b974-7f47-4740-961f-93277216a44d",
   "metadata": {},
   "source": [
    "True si los operandos son distintos; False en caso contrario."
   ]
  },
  {
   "cell_type": "markdown",
   "id": "98a07b84-4df3-408e-836b-638e33995c43",
   "metadata": {},
   "source": [
    "## Operadores Lógicos:"
   ]
  },
  {
   "cell_type": "markdown",
   "id": "1b97b60e-e604-4c89-b4f1-b49a2d5ec833",
   "metadata": {},
   "source": [
    "### And"
   ]
  },
  {
   "cell_type": "code",
   "execution_count": 30,
   "id": "42822433-50da-470a-ae55-2e139dde0e3a",
   "metadata": {},
   "outputs": [
    {
     "data": {
      "text/plain": [
       "True"
      ]
     },
     "execution_count": 30,
     "metadata": {},
     "output_type": "execute_result"
    }
   ],
   "source": [
    "True and True"
   ]
  },
  {
   "cell_type": "code",
   "execution_count": 31,
   "id": "72d0b82b-434f-48d1-ac93-26f3aae366f6",
   "metadata": {},
   "outputs": [
    {
     "data": {
      "text/plain": [
       "False"
      ]
     },
     "execution_count": 31,
     "metadata": {},
     "output_type": "execute_result"
    }
   ],
   "source": [
    "True and False"
   ]
  },
  {
   "cell_type": "code",
   "execution_count": 35,
   "id": "eee6378c-8c62-49bd-a0a2-f3b25ccc2a3f",
   "metadata": {},
   "outputs": [
    {
     "data": {
      "text/plain": [
       "False"
      ]
     },
     "execution_count": 35,
     "metadata": {},
     "output_type": "execute_result"
    }
   ],
   "source": [
    "False and False"
   ]
  },
  {
   "cell_type": "markdown",
   "id": "145bd0c0-0ce5-4f95-bf09-998c61145507",
   "metadata": {},
   "source": [
    "### Or"
   ]
  },
  {
   "cell_type": "code",
   "execution_count": 32,
   "id": "b43db318-78a2-4c37-8f6d-2a20b447717e",
   "metadata": {},
   "outputs": [
    {
     "data": {
      "text/plain": [
       "True"
      ]
     },
     "execution_count": 32,
     "metadata": {},
     "output_type": "execute_result"
    }
   ],
   "source": [
    "True or False"
   ]
  },
  {
   "cell_type": "code",
   "execution_count": 33,
   "id": "3c325512-b15a-4b40-ae1e-8f6fb26c5201",
   "metadata": {},
   "outputs": [
    {
     "data": {
      "text/plain": [
       "True"
      ]
     },
     "execution_count": 33,
     "metadata": {},
     "output_type": "execute_result"
    }
   ],
   "source": [
    "True or True"
   ]
  },
  {
   "cell_type": "code",
   "execution_count": 34,
   "id": "7ec091ca-46a2-4b3c-a611-73a77fdabfb2",
   "metadata": {},
   "outputs": [
    {
     "data": {
      "text/plain": [
       "False"
      ]
     },
     "execution_count": 34,
     "metadata": {},
     "output_type": "execute_result"
    }
   ],
   "source": [
    "False or False"
   ]
  },
  {
   "cell_type": "markdown",
   "id": "b3e32329-f994-45c7-b3a1-b2f1b1af0788",
   "metadata": {},
   "source": [
    "### Not"
   ]
  },
  {
   "cell_type": "code",
   "execution_count": 36,
   "id": "8f6ec549-5905-49e5-9435-713be11d13c5",
   "metadata": {},
   "outputs": [
    {
     "data": {
      "text/plain": [
       "False"
      ]
     },
     "execution_count": 36,
     "metadata": {},
     "output_type": "execute_result"
    }
   ],
   "source": [
    "not True"
   ]
  },
  {
   "cell_type": "code",
   "execution_count": 37,
   "id": "00cd07eb-448f-41fa-89c2-60818d2ffdf7",
   "metadata": {},
   "outputs": [
    {
     "data": {
      "text/plain": [
       "True"
      ]
     },
     "execution_count": 37,
     "metadata": {},
     "output_type": "execute_result"
    }
   ],
   "source": [
    "not False"
   ]
  },
  {
   "cell_type": "markdown",
   "id": "704e7327-1d7c-4fa0-acc1-0c80bb71e2dc",
   "metadata": {},
   "source": [
    "## Operadores de Identidad:"
   ]
  },
  {
   "cell_type": "markdown",
   "id": "1e51f269-2068-43bb-b65e-12b63ba6877a",
   "metadata": {},
   "source": [
    "### Is"
   ]
  },
  {
   "cell_type": "markdown",
   "id": "7a3d6a06-c7d5-4382-b6bc-f01dce7301a1",
   "metadata": {},
   "source": [
    "Devuelve True si hacen referencia a el mismo objeto"
   ]
  },
  {
   "cell_type": "code",
   "execution_count": 38,
   "id": "28df81d9-3384-4ec0-8771-0b3eadfbb598",
   "metadata": {
    "scrolled": true
   },
   "outputs": [
    {
     "name": "stderr",
     "output_type": "stream",
     "text": [
      "<>:1: SyntaxWarning: \"is\" with a literal. Did you mean \"==\"?\n",
      "<>:1: SyntaxWarning: \"is\" with a literal. Did you mean \"==\"?\n",
      "/var/folders/8h/qcm2t5f57rsfp1fcg5b980pw0000gn/T/ipykernel_4307/3938569512.py:1: SyntaxWarning: \"is\" with a literal. Did you mean \"==\"?\n",
      "  10 is 10\n"
     ]
    },
    {
     "data": {
      "text/plain": [
       "True"
      ]
     },
     "execution_count": 38,
     "metadata": {},
     "output_type": "execute_result"
    }
   ],
   "source": [
    "10 is 10"
   ]
  },
  {
   "cell_type": "code",
   "execution_count": 39,
   "id": "f2eaf1aa-255e-4813-a08c-e99f3087ac92",
   "metadata": {},
   "outputs": [
    {
     "name": "stderr",
     "output_type": "stream",
     "text": [
      "<>:1: SyntaxWarning: \"is\" with a literal. Did you mean \"==\"?\n",
      "<>:1: SyntaxWarning: \"is\" with a literal. Did you mean \"==\"?\n",
      "/var/folders/8h/qcm2t5f57rsfp1fcg5b980pw0000gn/T/ipykernel_4307/1126305179.py:1: SyntaxWarning: \"is\" with a literal. Did you mean \"==\"?\n",
      "  10 is 7\n"
     ]
    },
    {
     "data": {
      "text/plain": [
       "False"
      ]
     },
     "execution_count": 39,
     "metadata": {},
     "output_type": "execute_result"
    }
   ],
   "source": [
    "10 is 7"
   ]
  },
  {
   "cell_type": "markdown",
   "id": "92ec6dcd-a84b-46bd-b315-eb6d1b575b66",
   "metadata": {},
   "source": [
    "### Is not"
   ]
  },
  {
   "cell_type": "markdown",
   "id": "31a81a08-cab5-4957-8f78-5c6584dd2557",
   "metadata": {},
   "source": [
    "Devuelve False si no hacen referencia a el mismo objeto"
   ]
  },
  {
   "cell_type": "code",
   "execution_count": 40,
   "id": "88d50c6f-b717-4bd8-9656-529a1885140c",
   "metadata": {},
   "outputs": [
    {
     "name": "stderr",
     "output_type": "stream",
     "text": [
      "<>:1: SyntaxWarning: \"is not\" with a literal. Did you mean \"!=\"?\n",
      "<>:1: SyntaxWarning: \"is not\" with a literal. Did you mean \"!=\"?\n",
      "/var/folders/8h/qcm2t5f57rsfp1fcg5b980pw0000gn/T/ipykernel_4307/3919734364.py:1: SyntaxWarning: \"is not\" with a literal. Did you mean \"!=\"?\n",
      "  10 is not 10\n"
     ]
    },
    {
     "data": {
      "text/plain": [
       "False"
      ]
     },
     "execution_count": 40,
     "metadata": {},
     "output_type": "execute_result"
    }
   ],
   "source": [
    "10 is not 10"
   ]
  },
  {
   "cell_type": "code",
   "execution_count": 41,
   "id": "17f71a9f-c4a3-4368-a876-36ae7334d990",
   "metadata": {
    "scrolled": true
   },
   "outputs": [
    {
     "name": "stderr",
     "output_type": "stream",
     "text": [
      "<>:1: SyntaxWarning: \"is not\" with a literal. Did you mean \"!=\"?\n",
      "<>:1: SyntaxWarning: \"is not\" with a literal. Did you mean \"!=\"?\n",
      "/var/folders/8h/qcm2t5f57rsfp1fcg5b980pw0000gn/T/ipykernel_4307/621285580.py:1: SyntaxWarning: \"is not\" with a literal. Did you mean \"!=\"?\n",
      "  10 is not 7\n"
     ]
    },
    {
     "data": {
      "text/plain": [
       "True"
      ]
     },
     "execution_count": 41,
     "metadata": {},
     "output_type": "execute_result"
    }
   ],
   "source": [
    "10 is not 7"
   ]
  },
  {
   "cell_type": "markdown",
   "id": "cbe2bb82-4e80-4e7d-96b3-fbca6615a095",
   "metadata": {},
   "source": [
    "## Operadores de Membresía:"
   ]
  },
  {
   "cell_type": "markdown",
   "id": "a900d85c-7c95-406b-bbba-1d36bc2ae0ef",
   "metadata": {},
   "source": [
    "Son operadores que nos permiten saber si un elemento esta contenido en una secuencia. Por ejemplo si un número está contenido en una lista de números."
   ]
  },
  {
   "cell_type": "markdown",
   "id": "0ab1b940-651a-42ea-ad00-2efc229b35af",
   "metadata": {},
   "source": [
    "### In"
   ]
  },
  {
   "cell_type": "markdown",
   "id": "77f72116-ec3c-4796-960d-0f6ec1f568d9",
   "metadata": {},
   "source": [
    "Nos permite ver si un elemento esta contenido dentro de una secuencia, como podría ser una lista."
   ]
  },
  {
   "cell_type": "code",
   "execution_count": 46,
   "id": "0015c44b-927b-4de6-a884-128df93a42f1",
   "metadata": {},
   "outputs": [],
   "source": [
    "lista = [1, 2, 3]"
   ]
  },
  {
   "cell_type": "code",
   "execution_count": 47,
   "id": "36b25cc9-bdd0-4823-9118-25ae2b689024",
   "metadata": {},
   "outputs": [
    {
     "data": {
      "text/plain": [
       "True"
      ]
     },
     "execution_count": 47,
     "metadata": {},
     "output_type": "execute_result"
    }
   ],
   "source": [
    "2 in lista"
   ]
  },
  {
   "cell_type": "code",
   "execution_count": 48,
   "id": "26022253-fd36-44c3-9e23-db493f962a6f",
   "metadata": {},
   "outputs": [
    {
     "data": {
      "text/plain": [
       "False"
      ]
     },
     "execution_count": 48,
     "metadata": {},
     "output_type": "execute_result"
    }
   ],
   "source": [
    "87 in lista"
   ]
  },
  {
   "cell_type": "markdown",
   "id": "e94ea09d-e809-4a84-b356-20b851545850",
   "metadata": {},
   "source": [
    "### Not in"
   ]
  },
  {
   "cell_type": "markdown",
   "id": "36805cea-9103-4d1e-822a-2d1e95bb6efa",
   "metadata": {},
   "source": [
    "Verifica que un elemento no está contenido en otra secuencia. "
   ]
  },
  {
   "cell_type": "code",
   "execution_count": 49,
   "id": "3c8bcd71-7fc2-4cc6-9edd-9ae92c862925",
   "metadata": {},
   "outputs": [],
   "source": [
    "lista2 = [4, 5, 6]"
   ]
  },
  {
   "cell_type": "code",
   "execution_count": 50,
   "id": "0a26c4d0-ae3b-4b1b-b0bd-2a8f7d8d496b",
   "metadata": {},
   "outputs": [
    {
     "data": {
      "text/plain": [
       "False"
      ]
     },
     "execution_count": 50,
     "metadata": {},
     "output_type": "execute_result"
    }
   ],
   "source": [
    "4 not in lista2"
   ]
  },
  {
   "cell_type": "code",
   "execution_count": 51,
   "id": "78874645-9667-4fba-934a-d33804c1aa41",
   "metadata": {},
   "outputs": [
    {
     "data": {
      "text/plain": [
       "True"
      ]
     },
     "execution_count": 51,
     "metadata": {},
     "output_type": "execute_result"
    }
   ],
   "source": [
    "32 not in lista2"
   ]
  }
 ],
 "metadata": {
  "kernelspec": {
   "display_name": "Python 3 (ipykernel)",
   "language": "python",
   "name": "python3"
  },
  "language_info": {
   "codemirror_mode": {
    "name": "ipython",
    "version": 3
   },
   "file_extension": ".py",
   "mimetype": "text/x-python",
   "name": "python",
   "nbconvert_exporter": "python",
   "pygments_lexer": "ipython3",
   "version": "3.11.7"
  }
 },
 "nbformat": 4,
 "nbformat_minor": 5
}
