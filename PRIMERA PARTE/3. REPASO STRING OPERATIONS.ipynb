{
 "cells": [
  {
   "cell_type": "markdown",
   "id": "eaaba4fb-c911-47b0-9df8-1b73f9506489",
   "metadata": {},
   "source": [
    "# REPASO STRING OPERATIONS"
   ]
  },
  {
   "cell_type": "code",
   "execution_count": 7,
   "id": "8b5b9525-0aee-41a1-81a6-127f01368200",
   "metadata": {},
   "outputs": [],
   "source": [
    "import string"
   ]
  },
  {
   "cell_type": "markdown",
   "id": "dd766d2b-3f79-4221-a3d9-10c175ba2aa2",
   "metadata": {},
   "source": [
    "## *Common Operations:*"
   ]
  },
  {
   "cell_type": "code",
   "execution_count": 77,
   "id": "9ebace16-9726-4be8-8443-f592558f1694",
   "metadata": {},
   "outputs": [
    {
     "name": "stdout",
     "output_type": "stream",
     "text": [
      "ironhack\n"
     ]
    }
   ],
   "source": [
    "empresa = 'ironhack'\n",
    "print(empresa)"
   ]
  },
  {
   "cell_type": "code",
   "execution_count": 78,
   "id": "2e0577f6-1845-4974-8e52-80fc9e785287",
   "metadata": {},
   "outputs": [
    {
     "data": {
      "text/plain": [
       "'ironhack'"
      ]
     },
     "execution_count": 78,
     "metadata": {},
     "output_type": "execute_result"
    }
   ],
   "source": [
    "empresa.lower()"
   ]
  },
  {
   "cell_type": "code",
   "execution_count": 79,
   "id": "328858d3-3a64-427e-ad31-dce3be840b6f",
   "metadata": {},
   "outputs": [
    {
     "data": {
      "text/plain": [
       "'IRONHACK'"
      ]
     },
     "execution_count": 79,
     "metadata": {},
     "output_type": "execute_result"
    }
   ],
   "source": [
    "empresa.upper()"
   ]
  },
  {
   "cell_type": "code",
   "execution_count": 90,
   "id": "cbf1e835-03eb-4fe6-b45b-580043118ed4",
   "metadata": {},
   "outputs": [
    {
     "data": {
      "text/plain": [
       "'Ironhack'"
      ]
     },
     "execution_count": 90,
     "metadata": {},
     "output_type": "execute_result"
    }
   ],
   "source": [
    "empresa.capitalize()"
   ]
  },
  {
   "cell_type": "code",
   "execution_count": 80,
   "id": "14d73e28-95c4-4460-a65d-dbb0998e1f4d",
   "metadata": {},
   "outputs": [
    {
     "data": {
      "text/plain": [
       "'ironhack'"
      ]
     },
     "execution_count": 80,
     "metadata": {},
     "output_type": "execute_result"
    }
   ],
   "source": [
    "empresa.replace('Iron', '🔗')"
   ]
  },
  {
   "cell_type": "code",
   "execution_count": 82,
   "id": "6325c392-8ef6-4c2e-99a0-7cc52198796e",
   "metadata": {},
   "outputs": [
    {
     "data": {
      "text/plain": [
       "'🔗📊'"
      ]
     },
     "execution_count": 82,
     "metadata": {},
     "output_type": "execute_result"
    }
   ],
   "source": [
    "empresa.replace('iron', '🔗').replace('hack', '📊')"
   ]
  },
  {
   "cell_type": "code",
   "execution_count": 91,
   "id": "24af0637-2020-49cb-b863-16601e6bd761",
   "metadata": {},
   "outputs": [
    {
     "data": {
      "text/plain": [
       "'Ironahck Mola Que Flipas'"
      ]
     },
     "execution_count": 91,
     "metadata": {},
     "output_type": "execute_result"
    }
   ],
   "source": [
    "nueva_empresa = 'Ironahck mola que flipas'\n",
    "nueva_empresa.title()"
   ]
  },
  {
   "cell_type": "code",
   "execution_count": 83,
   "id": "c7aa320b-d845-460a-a624-efbafaf7533f",
   "metadata": {},
   "outputs": [
    {
     "data": {
      "text/plain": [
       "\"Moe's\""
      ]
     },
     "execution_count": 83,
     "metadata": {},
     "output_type": "execute_result"
    }
   ],
   "source": [
    "\"Moe's\" #Si necesitamos poner una apostrofe en medio de una string, debemos de poner un entre comillado"
   ]
  },
  {
   "cell_type": "markdown",
   "id": "4285ca04-3a28-4901-b184-405bea32e266",
   "metadata": {},
   "source": [
    "#### .startswith() / .endswith():"
   ]
  },
  {
   "cell_type": "code",
   "execution_count": 84,
   "id": "26e81f55-29b5-461a-9d78-cf38f06f8a6f",
   "metadata": {},
   "outputs": [
    {
     "data": {
      "text/plain": [
       "True"
      ]
     },
     "execution_count": 84,
     "metadata": {},
     "output_type": "execute_result"
    }
   ],
   "source": [
    "empresa.startswith('i')"
   ]
  },
  {
   "cell_type": "code",
   "execution_count": 85,
   "id": "60f5b5f4-d657-41db-b4eb-396820c88ebb",
   "metadata": {},
   "outputs": [
    {
     "data": {
      "text/plain": [
       "False"
      ]
     },
     "execution_count": 85,
     "metadata": {},
     "output_type": "execute_result"
    }
   ],
   "source": [
    "empresa.startswith('I')"
   ]
  },
  {
   "cell_type": "code",
   "execution_count": 86,
   "id": "8f4ce59b-85a1-44c4-a9a3-e388ed64ec9d",
   "metadata": {},
   "outputs": [
    {
     "data": {
      "text/plain": [
       "True"
      ]
     },
     "execution_count": 86,
     "metadata": {},
     "output_type": "execute_result"
    }
   ],
   "source": [
    "empresa.endswith('k')"
   ]
  },
  {
   "cell_type": "code",
   "execution_count": 87,
   "id": "23a26cb8-a3e2-4e55-8820-cbea24e51fff",
   "metadata": {},
   "outputs": [
    {
     "data": {
      "text/plain": [
       "False"
      ]
     },
     "execution_count": 87,
     "metadata": {},
     "output_type": "execute_result"
    }
   ],
   "source": [
    "empresa.endswith('c')"
   ]
  },
  {
   "cell_type": "markdown",
   "id": "cc9204d4-1216-4f19-be75-5a911b0b6e2e",
   "metadata": {},
   "source": [
    "#### in:"
   ]
  },
  {
   "cell_type": "code",
   "execution_count": 88,
   "id": "3857b410-4395-47b7-ad3a-3ede89ed7248",
   "metadata": {},
   "outputs": [
    {
     "data": {
      "text/plain": [
       "True"
      ]
     },
     "execution_count": 88,
     "metadata": {},
     "output_type": "execute_result"
    }
   ],
   "source": [
    "'h' in empresa"
   ]
  },
  {
   "cell_type": "code",
   "execution_count": 89,
   "id": "37c7cf6a-bf03-4399-9831-99e2d8dc7d21",
   "metadata": {},
   "outputs": [
    {
     "data": {
      "text/plain": [
       "False"
      ]
     },
     "execution_count": 89,
     "metadata": {},
     "output_type": "execute_result"
    }
   ],
   "source": [
    "'H' in empresa"
   ]
  },
  {
   "cell_type": "markdown",
   "id": "1ba056d5-56b7-4d96-bf61-90d1e96a90b5",
   "metadata": {},
   "source": [
    "### Funciones con la biblioteca string:"
   ]
  },
  {
   "cell_type": "code",
   "execution_count": 9,
   "id": "d950bd91-f3c7-4cf0-bfc9-a1509fe721f9",
   "metadata": {},
   "outputs": [
    {
     "data": {
      "text/plain": [
       "'abcdefghijklmnopqrstuvwxyzABCDEFGHIJKLMNOPQRSTUVWXYZ'"
      ]
     },
     "execution_count": 9,
     "metadata": {},
     "output_type": "execute_result"
    }
   ],
   "source": [
    "string.ascii_letters"
   ]
  },
  {
   "cell_type": "code",
   "execution_count": 10,
   "id": "3f8e1240-0650-442b-acb4-4e3ee81364d8",
   "metadata": {},
   "outputs": [
    {
     "data": {
      "text/plain": [
       "'abcdefghijklmnopqrstuvwxyz'"
      ]
     },
     "execution_count": 10,
     "metadata": {},
     "output_type": "execute_result"
    }
   ],
   "source": [
    "string.ascii_lowercase"
   ]
  },
  {
   "cell_type": "code",
   "execution_count": 11,
   "id": "e652b089-3e17-483e-b57f-377512c079ba",
   "metadata": {},
   "outputs": [
    {
     "data": {
      "text/plain": [
       "'ABCDEFGHIJKLMNOPQRSTUVWXYZ'"
      ]
     },
     "execution_count": 11,
     "metadata": {},
     "output_type": "execute_result"
    }
   ],
   "source": [
    "string.ascii_uppercase"
   ]
  },
  {
   "cell_type": "code",
   "execution_count": 12,
   "id": "d384a227-4a66-425e-8227-20dbec3065fa",
   "metadata": {},
   "outputs": [
    {
     "data": {
      "text/plain": [
       "'0123456789'"
      ]
     },
     "execution_count": 12,
     "metadata": {},
     "output_type": "execute_result"
    }
   ],
   "source": [
    "string.digits"
   ]
  },
  {
   "cell_type": "code",
   "execution_count": 13,
   "id": "3aa24566-2b54-4d68-ad3f-cf1bd1d8ee40",
   "metadata": {},
   "outputs": [
    {
     "data": {
      "text/plain": [
       "'0123456789abcdefABCDEF'"
      ]
     },
     "execution_count": 13,
     "metadata": {},
     "output_type": "execute_result"
    }
   ],
   "source": [
    "string.hexdigits"
   ]
  },
  {
   "cell_type": "code",
   "execution_count": 14,
   "id": "701d7d43-8f60-4273-a678-57bf08692470",
   "metadata": {},
   "outputs": [
    {
     "data": {
      "text/plain": [
       "'01234567'"
      ]
     },
     "execution_count": 14,
     "metadata": {},
     "output_type": "execute_result"
    }
   ],
   "source": [
    "string.octdigits"
   ]
  },
  {
   "cell_type": "code",
   "execution_count": 15,
   "id": "fe82b155-7a53-48ba-9a87-137918cd41dd",
   "metadata": {},
   "outputs": [
    {
     "data": {
      "text/plain": [
       "'!\"#$%&\\'()*+,-./:;<=>?@[\\\\]^_`{|}~'"
      ]
     },
     "execution_count": 15,
     "metadata": {},
     "output_type": "execute_result"
    }
   ],
   "source": [
    "string.punctuation"
   ]
  },
  {
   "cell_type": "code",
   "execution_count": 16,
   "id": "eb17cfb7-2431-42c3-ab44-f54a226163ba",
   "metadata": {},
   "outputs": [
    {
     "data": {
      "text/plain": [
       "'0123456789abcdefghijklmnopqrstuvwxyzABCDEFGHIJKLMNOPQRSTUVWXYZ!\"#$%&\\'()*+,-./:;<=>?@[\\\\]^_`{|}~ \\t\\n\\r\\x0b\\x0c'"
      ]
     },
     "execution_count": 16,
     "metadata": {},
     "output_type": "execute_result"
    }
   ],
   "source": [
    "string.printable"
   ]
  },
  {
   "cell_type": "code",
   "execution_count": 17,
   "id": "73877a6d-73d9-44df-8622-2600cf8be79a",
   "metadata": {},
   "outputs": [
    {
     "data": {
      "text/plain": [
       "' \\t\\n\\r\\x0b\\x0c'"
      ]
     },
     "execution_count": 17,
     "metadata": {},
     "output_type": "execute_result"
    }
   ],
   "source": [
    "string.whitespace"
   ]
  },
  {
   "cell_type": "markdown",
   "id": "48ba3163-bcd1-43ff-9b7a-5a9d6491db68",
   "metadata": {},
   "source": [
    "### Concatenación de Strings:"
   ]
  },
  {
   "cell_type": "code",
   "execution_count": 18,
   "id": "42244e7e-7691-4145-9081-c179e7bf5796",
   "metadata": {},
   "outputs": [
    {
     "data": {
      "text/plain": [
       "'Hola que tal?'"
      ]
     },
     "execution_count": 18,
     "metadata": {},
     "output_type": "execute_result"
    }
   ],
   "source": [
    "'Hola' + ' ' + 'que tal?'"
   ]
  },
  {
   "cell_type": "code",
   "execution_count": 19,
   "id": "35dcd22a-cbbf-4053-833d-6105e8d01036",
   "metadata": {},
   "outputs": [
    {
     "data": {
      "text/plain": [
       "'38'"
      ]
     },
     "execution_count": 19,
     "metadata": {},
     "output_type": "execute_result"
    }
   ],
   "source": [
    "'3' + '8'"
   ]
  },
  {
   "cell_type": "code",
   "execution_count": 20,
   "id": "cc5f0901-b73b-4a5b-ba0f-3eb9d716df94",
   "metadata": {},
   "outputs": [
    {
     "data": {
      "text/plain": [
       "38"
      ]
     },
     "execution_count": 20,
     "metadata": {},
     "output_type": "execute_result"
    }
   ],
   "source": [
    "var = '3' + '8'\n",
    "\n",
    "int(var) # Convertir la string en una variable numérica"
   ]
  },
  {
   "cell_type": "code",
   "execution_count": 22,
   "id": "403305d8-db63-4e75-87ac-7371880203c3",
   "metadata": {},
   "outputs": [
    {
     "data": {
      "text/plain": [
       "'DataDataDataData'"
      ]
     },
     "execution_count": 22,
     "metadata": {},
     "output_type": "execute_result"
    }
   ],
   "source": [
    "'Data' * 4 # Hacer que aparezca 4 veces repetida de forma seguida la string"
   ]
  },
  {
   "cell_type": "code",
   "execution_count": 23,
   "id": "a68c24e0-ff8a-4aa5-b426-988279107da1",
   "metadata": {},
   "outputs": [
    {
     "ename": "TypeError",
     "evalue": "unsupported operand type(s) for -: 'str' and 'str'",
     "output_type": "error",
     "traceback": [
      "\u001b[0;31m---------------------------------------------------------------------------\u001b[0m",
      "\u001b[0;31mTypeError\u001b[0m                                 Traceback (most recent call last)",
      "Cell \u001b[0;32mIn[23], line 1\u001b[0m\n\u001b[0;32m----> 1\u001b[0m \u001b[38;5;124m'\u001b[39m\u001b[38;5;124mhola\u001b[39m\u001b[38;5;124m'\u001b[39m \u001b[38;5;241m-\u001b[39m \u001b[38;5;124m'\u001b[39m\u001b[38;5;124mh\u001b[39m\u001b[38;5;124m'\u001b[39m\n",
      "\u001b[0;31mTypeError\u001b[0m: unsupported operand type(s) for -: 'str' and 'str'"
     ]
    }
   ],
   "source": [
    "'hola' - 'h' # No podemos quitar letras de la string"
   ]
  },
  {
   "cell_type": "code",
   "execution_count": 24,
   "id": "cef3e56c-416d-480c-b007-4a926609ff08",
   "metadata": {},
   "outputs": [
    {
     "ename": "TypeError",
     "evalue": "unsupported operand type(s) for /: 'str' and 'int'",
     "output_type": "error",
     "traceback": [
      "\u001b[0;31m---------------------------------------------------------------------------\u001b[0m",
      "\u001b[0;31mTypeError\u001b[0m                                 Traceback (most recent call last)",
      "Cell \u001b[0;32mIn[24], line 1\u001b[0m\n\u001b[0;32m----> 1\u001b[0m \u001b[38;5;124m'\u001b[39m\u001b[38;5;124mhola\u001b[39m\u001b[38;5;124m'\u001b[39m \u001b[38;5;241m/\u001b[39m \u001b[38;5;241m2\u001b[39m\n",
      "\u001b[0;31mTypeError\u001b[0m: unsupported operand type(s) for /: 'str' and 'int'"
     ]
    }
   ],
   "source": [
    "'hola' / 2 # No podemos dividir la string"
   ]
  },
  {
   "cell_type": "code",
   "execution_count": 26,
   "id": "93993b3d-8110-44ea-9beb-a06be9b17cd6",
   "metadata": {},
   "outputs": [
    {
     "data": {
      "text/plain": [
       "34.5"
      ]
     },
     "execution_count": 26,
     "metadata": {},
     "output_type": "execute_result"
    }
   ],
   "source": [
    "num = 69\n",
    "num / 2 # Lo que si podemos hacer es dividir un numero que se le ha asignado un nombre de la variable"
   ]
  },
  {
   "cell_type": "code",
   "execution_count": 27,
   "id": "b04824b2-99d2-4beb-9fce-0067f7eff7d7",
   "metadata": {},
   "outputs": [
    {
     "data": {
      "text/plain": [
       "34.5"
      ]
     },
     "execution_count": 27,
     "metadata": {},
     "output_type": "execute_result"
    }
   ],
   "source": [
    "num_div = num / 2\n",
    "num_div"
   ]
  },
  {
   "cell_type": "code",
   "execution_count": 29,
   "id": "0662b366-b66e-4d8e-8d6d-e1f9992ec401",
   "metadata": {},
   "outputs": [
    {
     "data": {
      "text/plain": [
       "'Oye tio, me debes 34.5. Hazme bizum'"
      ]
     },
     "execution_count": 29,
     "metadata": {},
     "output_type": "execute_result"
    }
   ],
   "source": [
    "f'Oye tio, me debes {num_div}. Hazme bizum'"
   ]
  },
  {
   "cell_type": "code",
   "execution_count": 30,
   "id": "60e62cb1-6148-4336-92e4-359470bd318d",
   "metadata": {},
   "outputs": [
    {
     "data": {
      "text/plain": [
       "'Esto es una lista: [1, 2, 3, 4]'"
      ]
     },
     "execution_count": 30,
     "metadata": {},
     "output_type": "execute_result"
    }
   ],
   "source": [
    "lista = [1,2,3,4]\n",
    "f'Esto es una lista: {lista}'"
   ]
  },
  {
   "cell_type": "markdown",
   "id": "6f1e13e0-4f52-446f-bdab-584ab985ce9c",
   "metadata": {},
   "source": [
    "#### .JOIN(...):"
   ]
  },
  {
   "cell_type": "markdown",
   "id": "5e4a6a64-3184-47b9-a2d0-8ba821178f0e",
   "metadata": {},
   "source": [
    "Unir todos los elementos de una tupla en una cadena, utilizando un carácter como separador:"
   ]
  },
  {
   "cell_type": "code",
   "execution_count": 31,
   "id": "d78fbbd3-4556-4619-8971-85f9e97636b3",
   "metadata": {},
   "outputs": [
    {
     "data": {
      "text/plain": [
       "['nombre', ' ', 'hola', ' ', 'ññññññññ', 'jasoknfdos', '🐶', '👺']"
      ]
     },
     "execution_count": 31,
     "metadata": {},
     "output_type": "execute_result"
    }
   ],
   "source": [
    "lista = ['nombre', ' ', 'hola', ' ', 'ññññññññ', 'jasoknfdos', '🐶', '👺']\n",
    "\n",
    "lista"
   ]
  },
  {
   "cell_type": "code",
   "execution_count": 35,
   "id": "3d3d3880-bf6f-4f2e-9442-2cf744277c02",
   "metadata": {},
   "outputs": [
    {
     "data": {
      "text/plain": [
       "'nombre_ _hola_ _ññññññññ_jasoknfdos_🐶_👺'"
      ]
     },
     "execution_count": 35,
     "metadata": {},
     "output_type": "execute_result"
    }
   ],
   "source": [
    "'_'.join(lista) # En este caso usamos un guión bajo para unir los elementos"
   ]
  },
  {
   "cell_type": "code",
   "execution_count": 36,
   "id": "e48d7ba7-4e8c-4519-8252-cdbe53f4e885",
   "metadata": {},
   "outputs": [
    {
     "data": {
      "text/plain": [
       "['nombre', 'hola', '🐶', '👺']"
      ]
     },
     "execution_count": 36,
     "metadata": {},
     "output_type": "execute_result"
    }
   ],
   "source": [
    "lista = ['nombre', 'hola', '🐶', '👺']\n",
    "\n",
    "lista"
   ]
  },
  {
   "cell_type": "code",
   "execution_count": 39,
   "id": "af41e9d6-7f6f-4990-a469-275c3dd3638d",
   "metadata": {},
   "outputs": [
    {
     "data": {
      "text/plain": [
       "'nombre hola 🐶 👺'"
      ]
     },
     "execution_count": 39,
     "metadata": {},
     "output_type": "execute_result"
    }
   ],
   "source": [
    "' '.join(lista)"
   ]
  },
  {
   "cell_type": "markdown",
   "id": "42dec185-de46-4d04-98e7-71195d63a982",
   "metadata": {},
   "source": [
    "#### .SPLIT(...):"
   ]
  },
  {
   "cell_type": "markdown",
   "id": "64e47ffc-1c35-44e1-8174-6a93a8328992",
   "metadata": {},
   "source": [
    "Dividir una cadena en una lista donde cada palabra es un elemento de la lista:"
   ]
  },
  {
   "cell_type": "code",
   "execution_count": 92,
   "id": "70b7336a-64b1-4b16-87d6-d9b0fc5f6ef5",
   "metadata": {},
   "outputs": [
    {
     "name": "stdout",
     "output_type": "stream",
     "text": [
      "Hola.\n",
      " Soy el profe de data. \n",
      "Bienvenidos.\n"
     ]
    }
   ],
   "source": [
    "texto = 'Hola.\\n Soy el profe de data. \\nBienvenidos.'\n",
    "\n",
    "print(texto)"
   ]
  },
  {
   "cell_type": "code",
   "execution_count": 93,
   "id": "e4d4e466-6fc2-49ca-96cc-71c4cc0ec11a",
   "metadata": {},
   "outputs": [
    {
     "data": {
      "text/plain": [
       "'Hola.\\n Soy el profe de data. \\nBienvenidos.'"
      ]
     },
     "execution_count": 93,
     "metadata": {},
     "output_type": "execute_result"
    }
   ],
   "source": [
    "texto"
   ]
  },
  {
   "cell_type": "code",
   "execution_count": 94,
   "id": "8a92ce14-8f22-4a78-a38f-7aeaaf8613ad",
   "metadata": {},
   "outputs": [
    {
     "data": {
      "text/plain": [
       "['Hola.', 'Soy', 'el', 'profe', 'de', 'data.', 'Bienvenidos.']"
      ]
     },
     "execution_count": 94,
     "metadata": {},
     "output_type": "execute_result"
    }
   ],
   "source": [
    "lista_tex = texto.split() # Rompe por el espacio por defecto\n",
    "lista_tex"
   ]
  },
  {
   "cell_type": "code",
   "execution_count": 95,
   "id": "198d34ab-41b1-42dd-a09e-d5e82fef4f0e",
   "metadata": {},
   "outputs": [
    {
     "data": {
      "text/plain": [
       "'Hola. Soy el profe de data. Bienvenidos.'"
      ]
     },
     "execution_count": 95,
     "metadata": {},
     "output_type": "execute_result"
    }
   ],
   "source": [
    "' '.join(lista_tex)"
   ]
  },
  {
   "cell_type": "markdown",
   "id": "a0126b45-4017-4533-a290-0fc3b56e5b1a",
   "metadata": {},
   "source": [
    "Existen más formas de poder separarlo por \\n:"
   ]
  },
  {
   "cell_type": "code",
   "execution_count": 96,
   "id": "bf42ef26-6fa8-4808-9539-138a47963486",
   "metadata": {},
   "outputs": [
    {
     "data": {
      "text/plain": [
       "['Hola.', ' Soy el profe de data. ', 'Bienvenidos.']"
      ]
     },
     "execution_count": 96,
     "metadata": {},
     "output_type": "execute_result"
    }
   ],
   "source": [
    "texto.split('\\n') "
   ]
  },
  {
   "cell_type": "code",
   "execution_count": 97,
   "id": "1ebb4656-c789-48fc-a917-e15ffae38e61",
   "metadata": {},
   "outputs": [
    {
     "data": {
      "text/plain": [
       "['H', 'la.\\n S', 'y el pr', 'fe de data. \\nBienvenid', 's.']"
      ]
     },
     "execution_count": 97,
     "metadata": {},
     "output_type": "execute_result"
    }
   ],
   "source": [
    "texto.split('o') "
   ]
  },
  {
   "cell_type": "code",
   "execution_count": 98,
   "id": "4bb9cf93-e3d5-4420-8c0a-4e496118f74b",
   "metadata": {},
   "outputs": [
    {
     "data": {
      "text/plain": [
       "'Hola. Soy el profe de data. Bienvenidos.'"
      ]
     },
     "execution_count": 98,
     "metadata": {},
     "output_type": "execute_result"
    }
   ],
   "source": [
    "texto.replace('\\n', '')"
   ]
  },
  {
   "cell_type": "code",
   "execution_count": 99,
   "id": "9ff98e57-00f8-4b46-8a81-3dda2934ece5",
   "metadata": {},
   "outputs": [
    {
     "data": {
      "text/plain": [
       "'hola. soy el profe de data. bienvenid'"
      ]
     },
     "execution_count": 99,
     "metadata": {},
     "output_type": "execute_result"
    }
   ],
   "source": [
    "texto.replace('\\n', '').lower().strip('os.')"
   ]
  },
  {
   "cell_type": "markdown",
   "id": "ae9685f1-0ba5-4995-beac-8db438af1b33",
   "metadata": {},
   "source": [
    "#### STRIP (...):"
   ]
  },
  {
   "cell_type": "code",
   "execution_count": 47,
   "id": "7cb65f01-2d0d-4d95-89ec-948c11c367cd",
   "metadata": {},
   "outputs": [
    {
     "data": {
      "text/plain": [
       "'         oeaskndvoewivcm lskefmnw psdkmfwopfdemn             '"
      ]
     },
     "execution_count": 47,
     "metadata": {},
     "output_type": "execute_result"
    }
   ],
   "source": [
    "texto = '         oeaskndvoewivcm lskefmnw psdkmfwopfdemn             '\n",
    "\n",
    "texto"
   ]
  },
  {
   "cell_type": "code",
   "execution_count": 48,
   "id": "d8345151-aad2-4a00-b1b6-d6a7e384fb3d",
   "metadata": {},
   "outputs": [
    {
     "data": {
      "text/plain": [
       "'oeaskndvoewivcm lskefmnw psdkmfwopfdemn'"
      ]
     },
     "execution_count": 48,
     "metadata": {},
     "output_type": "execute_result"
    }
   ],
   "source": [
    "texto.strip() # El espacio por defecto, los quita por los lados."
   ]
  },
  {
   "cell_type": "code",
   "execution_count": 49,
   "id": "a3f341f2-67c9-4f4f-8399-f7a85dc35c1b",
   "metadata": {},
   "outputs": [
    {
     "data": {
      "text/plain": [
       "'text'"
      ]
     },
     "execution_count": 49,
     "metadata": {},
     "output_type": "execute_result"
    }
   ],
   "source": [
    "'texto'.strip('o')"
   ]
  },
  {
   "cell_type": "code",
   "execution_count": 54,
   "id": "1fe6bc8e-aeb5-4d54-a4a5-8714c4e74fe7",
   "metadata": {},
   "outputs": [
    {
     "data": {
      "text/plain": [
       "'xto'"
      ]
     },
     "execution_count": 54,
     "metadata": {},
     "output_type": "execute_result"
    }
   ],
   "source": [
    "'texto'.lstrip('te')  # Por la izq"
   ]
  },
  {
   "cell_type": "code",
   "execution_count": 55,
   "id": "ebc12838-62fc-414b-b084-c89ae0c34747",
   "metadata": {},
   "outputs": [
    {
     "data": {
      "text/plain": [
       "'tex'"
      ]
     },
     "execution_count": 55,
     "metadata": {},
     "output_type": "execute_result"
    }
   ],
   "source": [
    "'texto'.rstrip('to')  # Por la dcha"
   ]
  },
  {
   "cell_type": "markdown",
   "id": "08faba7d-6f00-49bc-84de-a8d5ae05b291",
   "metadata": {},
   "source": [
    "### Slicing:"
   ]
  },
  {
   "cell_type": "markdown",
   "id": "fb2229d9-fa2b-40c2-bc04-63379e4ce5d0",
   "metadata": {},
   "source": [
    "Puedes devolver un rango de caracteres utilizando la sintaxis de segmentación.\n",
    "\n",
    "Especifique el índice inicial y el índice final, separados por dos puntos, para devolver una parte de la cadena."
   ]
  },
  {
   "cell_type": "code",
   "execution_count": 59,
   "id": "27093a66-242c-4b2e-b865-9cab2854ad5f",
   "metadata": {},
   "outputs": [
    {
     "data": {
      "text/plain": [
       "5"
      ]
     },
     "execution_count": 59,
     "metadata": {},
     "output_type": "execute_result"
    }
   ],
   "source": [
    "lista = [1,2,3,4,5]\n",
    "\n",
    "lista[-1]"
   ]
  },
  {
   "cell_type": "code",
   "execution_count": 60,
   "id": "ef4b1ff4-05c1-439c-9606-2bcad49d0c53",
   "metadata": {},
   "outputs": [
    {
     "data": {
      "text/plain": [
       "[4, 5]"
      ]
     },
     "execution_count": 60,
     "metadata": {},
     "output_type": "execute_result"
    }
   ],
   "source": [
    "lista[-2:] # Recibes los dos últimos elementos"
   ]
  },
  {
   "cell_type": "code",
   "execution_count": 61,
   "id": "5a7f9685-e7e4-463a-93d5-6149b173cdb2",
   "metadata": {},
   "outputs": [
    {
     "data": {
      "text/plain": [
       "[3, 5]"
      ]
     },
     "execution_count": 61,
     "metadata": {},
     "output_type": "execute_result"
    }
   ],
   "source": [
    "start = 2 # Indica el índice inicial de la rebanada.\n",
    "stop  = 5 # Indica el índice donde se detiene la rebanada (pero no se incluye el elemento en este índice).\n",
    "step  = 2 # Indica el paso o salto entre los elementos seleccionados.\n",
    "\n",
    "lista[start:stop:step]"
   ]
  },
  {
   "cell_type": "code",
   "execution_count": 62,
   "id": "bd1fac89-12cc-416d-b9db-da5b7f54b2fc",
   "metadata": {},
   "outputs": [
    {
     "data": {
      "text/plain": [
       "1"
      ]
     },
     "execution_count": 62,
     "metadata": {},
     "output_type": "execute_result"
    }
   ],
   "source": [
    "lista[0]"
   ]
  },
  {
   "cell_type": "code",
   "execution_count": 63,
   "id": "f54d4f6b-5997-49d7-a3bb-5f31f04e8cb2",
   "metadata": {},
   "outputs": [
    {
     "data": {
      "text/plain": [
       "'hola, como vais, bien o que onda?'"
      ]
     },
     "execution_count": 63,
     "metadata": {},
     "output_type": "execute_result"
    }
   ],
   "source": [
    "texto = 'hola, como vais, bien o que onda?'\n",
    "\n",
    "texto"
   ]
  },
  {
   "cell_type": "code",
   "execution_count": 64,
   "id": "d296b3c1-07cb-4242-9e7b-a0845004d244",
   "metadata": {},
   "outputs": [
    {
     "data": {
      "text/plain": [
       "'l mvsbn en'"
      ]
     },
     "execution_count": 64,
     "metadata": {},
     "output_type": "execute_result"
    }
   ],
   "source": [
    "texto[2:30:3]"
   ]
  },
  {
   "cell_type": "code",
   "execution_count": 65,
   "id": "7a0bfc54-0c08-445d-afdf-b467285a6c04",
   "metadata": {},
   "outputs": [
    {
     "data": {
      "text/plain": [
       "'hola, como'"
      ]
     },
     "execution_count": 65,
     "metadata": {},
     "output_type": "execute_result"
    }
   ],
   "source": [
    "texto[:10]"
   ]
  }
 ],
 "metadata": {
  "kernelspec": {
   "display_name": "Python 3 (ipykernel)",
   "language": "python",
   "name": "python3"
  },
  "language_info": {
   "codemirror_mode": {
    "name": "ipython",
    "version": 3
   },
   "file_extension": ".py",
   "mimetype": "text/x-python",
   "name": "python",
   "nbconvert_exporter": "python",
   "pygments_lexer": "ipython3",
   "version": "3.11.7"
  }
 },
 "nbformat": 4,
 "nbformat_minor": 5
}
