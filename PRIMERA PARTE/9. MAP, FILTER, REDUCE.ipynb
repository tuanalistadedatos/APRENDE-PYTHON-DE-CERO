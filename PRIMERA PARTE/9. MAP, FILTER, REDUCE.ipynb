{
 "cells": [
  {
   "cell_type": "markdown",
   "id": "7b10fb13-92ea-4f7e-ae02-3038a6b2493d",
   "metadata": {},
   "source": [
    "# _MAPING, FILTERING, REDUCING_"
   ]
  },
  {
   "cell_type": "markdown",
   "id": "02af3a34-6d5d-4773-956e-eeec9902cf25",
   "metadata": {},
   "source": [
    "La función \"map()\" se utiliza para aplicar una función dada a cada elemento de un iterable, como una lista o una tupla, y devuelve un objeto de mapa.\n",
    "\n",
    "Gracias a esta función, podemos por ejemplo convertir una lista de cadenas en una lista de número enteros:"
   ]
  },
  {
   "cell_type": "code",
   "execution_count": 11,
   "id": "98803dcb-c7c0-45c6-aa7e-7526d1d699ad",
   "metadata": {},
   "outputs": [
    {
     "data": {
      "text/plain": [
       "['1', '2', '3', '4', '5']"
      ]
     },
     "execution_count": 11,
     "metadata": {},
     "output_type": "execute_result"
    }
   ],
   "source": [
    "lista_string = ['1','2','3','4','5']\n",
    "lista_string"
   ]
  },
  {
   "cell_type": "code",
   "execution_count": 12,
   "id": "3205f9f4-27f6-4dfa-b5f4-960f42164232",
   "metadata": {},
   "outputs": [
    {
     "data": {
      "text/plain": [
       "<map at 0x104aa72b0>"
      ]
     },
     "execution_count": 12,
     "metadata": {},
     "output_type": "execute_result"
    }
   ],
   "source": [
    "mapping = map(int,lista_string)\n",
    "mapping"
   ]
  },
  {
   "cell_type": "code",
   "execution_count": 13,
   "id": "7db9b66a-344c-4f57-8c9e-448e1d5e2b23",
   "metadata": {},
   "outputs": [
    {
     "name": "stdout",
     "output_type": "stream",
     "text": [
      "[1, 2, 3, 4, 5]\n"
     ]
    }
   ],
   "source": [
    "print(list(mapping))"
   ]
  },
  {
   "cell_type": "markdown",
   "id": "405ba116-7e73-4d9f-a700-956054704d83",
   "metadata": {},
   "source": [
    "En este caso usamos la función int incorporada para convertir cada cadena de la \"lista_string\" en un entero. Lafunción map() se encarga de aplicar int() a cada elemento."
   ]
  },
  {
   "cell_type": "markdown",
   "id": "5fadbdc8-f822-4d7e-97b8-aea208d8a815",
   "metadata": {},
   "source": [
    "La sintaxis de \"map()\", es la siguiente: **map(función, iterable)**\n",
    "\n",
    "* Función: La función que queremos aplicar a cada elemento iterable.\n",
    "* Iterable: El iterable cuyos elementos queremos procesar."
   ]
  },
  {
   "cell_type": "markdown",
   "id": "a73ce11e-c263-46de-97b1-2d8874a1c4ec",
   "metadata": {},
   "source": [
    "Así es como podemos duplicar cada elemento de la lista dada:"
   ]
  },
  {
   "cell_type": "code",
   "execution_count": 16,
   "id": "b90612cf-dfbc-4137-a505-c685ae247e8d",
   "metadata": {},
   "outputs": [],
   "source": [
    "a = [1,2,3,4,5]"
   ]
  },
  {
   "cell_type": "code",
   "execution_count": 17,
   "id": "28c66551-e284-433d-987d-cd038d00e0a1",
   "metadata": {},
   "outputs": [],
   "source": [
    "def doble (value):\n",
    "    return value * 2"
   ]
  },
  {
   "cell_type": "code",
   "execution_count": 18,
   "id": "ffe3c922-83d5-4772-b04e-406560e799cb",
   "metadata": {},
   "outputs": [
    {
     "name": "stdout",
     "output_type": "stream",
     "text": [
      "[2, 4, 6, 8, 10]\n"
     ]
    }
   ],
   "source": [
    "res = list(map(doble,a))\n",
    "print(res)"
   ]
  },
  {
   "cell_type": "markdown",
   "id": "09d77d2a-8cf3-4b7b-aefc-03598387501d",
   "metadata": {},
   "source": [
    "## _MAP CON LAMBDA_"
   ]
  },
  {
   "cell_type": "markdown",
   "id": "8bbd17a8-65fe-4a45-b10f-1ba8f6393e4f",
   "metadata": {},
   "source": [
    "Para que el código sea más breve y sencillo, podemos utilizar una función lambda en lugar de una función personalizada con \"map()\"\n",
    "\n",
    "Así es como podemos mejorar el anterior código:"
   ]
  },
  {
   "cell_type": "code",
   "execution_count": 19,
   "id": "bcdc616d-e196-4e23-bdb4-df3b15c00832",
   "metadata": {},
   "outputs": [
    {
     "name": "stdout",
     "output_type": "stream",
     "text": [
      "[2, 4, 6, 8, 10]\n"
     ]
    }
   ],
   "source": [
    "res = list(map(lambda x : x * 2, a))\n",
    "\n",
    "print(res)"
   ]
  },
  {
   "cell_type": "markdown",
   "id": "5581cbc3-2c60-4648-90a7-2bbf50c9cd1f",
   "metadata": {},
   "source": [
    "Podemos usar \"map()\" con múltiples iterables, si la función que estamos aplicando toma más de un argumento.\n",
    "\n",
    "En el siguiente ejemplo, \"map()\" toma dos iterables (a y b), y aplica se aplica la función lambda para agregar los elementos correspondientes de ambas listas:"
   ]
  },
  {
   "cell_type": "code",
   "execution_count": 20,
   "id": "6f83b10e-f402-4e64-ba6f-e3981aaff942",
   "metadata": {},
   "outputs": [],
   "source": [
    "a = [1, 2, 3]\n",
    "b = [4, 5, 6]"
   ]
  },
  {
   "cell_type": "code",
   "execution_count": 21,
   "id": "b411f73a-93a0-416e-b4d5-962fa7512f54",
   "metadata": {},
   "outputs": [
    {
     "name": "stdout",
     "output_type": "stream",
     "text": [
      "[5, 7, 9]\n"
     ]
    }
   ],
   "source": [
    "res = map(lambda x, y : x + y, a, b)\n",
    "print(list(res))"
   ]
  },
  {
   "cell_type": "markdown",
   "id": "64be9394-b30d-4d6d-b383-f80981ef12ac",
   "metadata": {},
   "source": [
    "No solo se puede hacer con números, también se puede hacer con strings.\n",
    "\n",
    "En este caso, convertiremos las mayúsculas en minúsculas:"
   ]
  },
  {
   "cell_type": "code",
   "execution_count": 22,
   "id": "3e4159f1-3496-4be9-825e-0304ee118aa9",
   "metadata": {},
   "outputs": [],
   "source": [
    "list_string = ['BUENOS DÍAS', 'BUENAS TARDES', 'BUENAS NOCHES']"
   ]
  },
  {
   "cell_type": "code",
   "execution_count": 23,
   "id": "a49c9e5a-bd8a-4302-b88d-f597b46d5802",
   "metadata": {},
   "outputs": [
    {
     "name": "stdout",
     "output_type": "stream",
     "text": [
      "['buenos días', 'buenas tardes', 'buenas noches']\n"
     ]
    }
   ],
   "source": [
    "res = list(map(str.lower,list_string))\n",
    "print(res)"
   ]
  },
  {
   "cell_type": "markdown",
   "id": "7b49c182-b545-407d-808a-1e25d6542058",
   "metadata": {},
   "source": [
    "## _FILTERING_"
   ]
  },
  {
   "cell_type": "markdown",
   "id": "cbee2ec6-a892-4d89-a8c2-1ddad0fe7fed",
   "metadata": {},
   "source": [
    "La función \"filter()\" devuelve un iterador donde los elementos se filtran a través de una función para probar si el elemento se acepta o no.\n",
    "\n",
    "Su sintaxis es la siguiente: **filter (función, iterable)**\n",
    "\n",
    "* Función: Una función que se ejecutará para cada elemento iterable.\n",
    "* Iterable: El iterable para ser filtrado."
   ]
  },
  {
   "cell_type": "markdown",
   "id": "cf35b74a-051b-4397-a43d-f970a5045590",
   "metadata": {},
   "source": [
    "Por ejemplo, queremos filtrar la matrix y devolver una nueva matriz con solo los valores iguales o superiores a 18:"
   ]
  },
  {
   "cell_type": "code",
   "execution_count": 24,
   "id": "563022ff-1ff7-48f1-862d-75ce0fc198d3",
   "metadata": {},
   "outputs": [],
   "source": [
    "edades = [5, 12, 17, 18, 24, 32]"
   ]
  },
  {
   "cell_type": "code",
   "execution_count": 29,
   "id": "c051e4f3-3d07-42e5-bd78-1c3bebe9172d",
   "metadata": {},
   "outputs": [
    {
     "name": "stdout",
     "output_type": "stream",
     "text": [
      "18\n",
      "24\n",
      "32\n"
     ]
    }
   ],
   "source": [
    "def funcion (edad):\n",
    "    if edad < 18:\n",
    "        return False\n",
    "    else:\n",
    "        return True\n",
    "\n",
    "adults = filter(funcion, edades)\n",
    "\n",
    "for edad in adults:\n",
    "    print(edad)"
   ]
  },
  {
   "cell_type": "code",
   "execution_count": 30,
   "id": "2dec59c2-f24d-4f37-b614-41fb450388c3",
   "metadata": {},
   "outputs": [
    {
     "data": {
      "text/plain": [
       "[0, 1, 2, 3, 4, 5, 6, 7, 8, 9]"
      ]
     },
     "execution_count": 30,
     "metadata": {},
     "output_type": "execute_result"
    }
   ],
   "source": [
    "lst = [i for i in range(10_000_000)]\n",
    "\n",
    "lst[:10]"
   ]
  },
  {
   "cell_type": "code",
   "execution_count": 31,
   "id": "c0d4758d-4360-48bd-a58a-89074079b653",
   "metadata": {},
   "outputs": [
    {
     "data": {
      "text/plain": [
       "10000000"
      ]
     },
     "execution_count": 31,
     "metadata": {},
     "output_type": "execute_result"
    }
   ],
   "source": [
    "len(lst)"
   ]
  },
  {
   "cell_type": "code",
   "execution_count": 38,
   "id": "50b4fda2-c07d-4cdf-b361-31f9f5aee410",
   "metadata": {},
   "outputs": [],
   "source": [
    "def buscar_pares(numero):\n",
    "    \n",
    "    if numero % 2 == 0: #es par\n",
    "        return True\n",
    "    \n",
    "    else:\n",
    "        return False"
   ]
  },
  {
   "cell_type": "code",
   "execution_count": 39,
   "id": "d79887a1-eb95-4b48-8f61-28c447c1ecb5",
   "metadata": {},
   "outputs": [
    {
     "data": {
      "text/plain": [
       "True"
      ]
     },
     "execution_count": 39,
     "metadata": {},
     "output_type": "execute_result"
    }
   ],
   "source": [
    "buscar_pares(8)"
   ]
  },
  {
   "cell_type": "code",
   "execution_count": 40,
   "id": "c1de4c18-da1d-433f-bdd1-499b7971040e",
   "metadata": {},
   "outputs": [
    {
     "data": {
      "text/plain": [
       "<filter at 0x104ab41f0>"
      ]
     },
     "execution_count": 40,
     "metadata": {},
     "output_type": "execute_result"
    }
   ],
   "source": [
    "filter(buscar_pares, lst)"
   ]
  },
  {
   "cell_type": "code",
   "execution_count": 43,
   "id": "11a5f2aa-84ac-4f3b-8017-f1e19aeae06e",
   "metadata": {},
   "outputs": [
    {
     "data": {
      "text/plain": [
       "[0, 2, 4, 6, 8, 10, 12, 14, 16, 18]"
      ]
     },
     "execution_count": 43,
     "metadata": {},
     "output_type": "execute_result"
    }
   ],
   "source": [
    "list(filter(buscar_pares, lst))[:10]"
   ]
  },
  {
   "cell_type": "markdown",
   "id": "177de170-5d97-4434-9133-e1451d1f3862",
   "metadata": {},
   "source": [
    "Este código lo podemos reducir de la siguiente manera:"
   ]
  },
  {
   "cell_type": "code",
   "execution_count": 46,
   "id": "67ef7cab-f86c-40f0-8c8e-41b7ca43ccc9",
   "metadata": {},
   "outputs": [
    {
     "data": {
      "text/plain": [
       "[0, 2, 4, 6, 8, 10, 12, 14, 16, 18]"
      ]
     },
     "execution_count": 46,
     "metadata": {},
     "output_type": "execute_result"
    }
   ],
   "source": [
    "res = []\n",
    "\n",
    "for numero in lst:\n",
    "    \n",
    "    if numero % 2 == 0:\n",
    "        res.append(numero)\n",
    "\n",
    "    else:\n",
    "        pass\n",
    "\n",
    "res[:10]"
   ]
  },
  {
   "cell_type": "code",
   "execution_count": 49,
   "id": "3a33735e-06b9-428e-8c82-6798a417a33e",
   "metadata": {},
   "outputs": [
    {
     "data": {
      "text/plain": [
       "[0, 2, 4, 6, 8, 10, 12, 14, 16, 18]"
      ]
     },
     "execution_count": 49,
     "metadata": {},
     "output_type": "execute_result"
    }
   ],
   "source": [
    "list(filter(lambda numero: numero % 2 == 0, lst))[:10]"
   ]
  },
  {
   "cell_type": "markdown",
   "id": "9d2ce62e-4c03-4c23-9d27-4ce8b2101f59",
   "metadata": {},
   "source": [
    "## _REDUCING_"
   ]
  },
  {
   "cell_type": "markdown",
   "id": "a9ea660d-08a0-48ec-a732-e522794a0b39",
   "metadata": {},
   "source": [
    "La función \"reduce()\" se utiliza para aplicar una función particular pasada en su argumento a todos los elementos de la lista mencionados en la secuencia pasada.\n",
    "\n",
    "Para poder usar esta herramienta, es necesario desde functools importar la biblioteca reduce, es decir, **_from functools import reduce_**.\n",
    "\n",
    "**PASOS**\n",
    "\n",
    "1. Se seleccionan los dos primeros elementos de la secuencia y se obtiene el resultado.\n",
    "   \n",
    "2. Aplicamos la misma función al resultado obtenido previamente y al número que sigue al segundo elemento y el resultado se almacena nuevamente.\n",
    "   \n",
    "3. El proceso continúa hasta que no queden más elementos en el contenedor.\n",
    "   \n",
    "4. El resultado final devuelto se devuelve y se imprime en la consola."
   ]
  },
  {
   "cell_type": "code",
   "execution_count": 50,
   "id": "eea9f749-1589-44c4-a4d1-ae9db8ba4ab3",
   "metadata": {},
   "outputs": [],
   "source": [
    "from functools import reduce"
   ]
  },
  {
   "cell_type": "code",
   "execution_count": 51,
   "id": "6632ecd3-2334-4f84-b42d-e12a0cebf0ec",
   "metadata": {},
   "outputs": [],
   "source": [
    "def sumar (a,b):\n",
    "\n",
    "    print(a,b)\n",
    "\n",
    "    return a + b"
   ]
  },
  {
   "cell_type": "code",
   "execution_count": 52,
   "id": "903b84d2-ddf7-4995-b8b2-40b5ea70bf8f",
   "metadata": {},
   "outputs": [
    {
     "name": "stdout",
     "output_type": "stream",
     "text": [
      "5 7\n"
     ]
    },
    {
     "data": {
      "text/plain": [
       "12"
      ]
     },
     "execution_count": 52,
     "metadata": {},
     "output_type": "execute_result"
    }
   ],
   "source": [
    "sumar(5, 7)"
   ]
  },
  {
   "cell_type": "code",
   "execution_count": 53,
   "id": "3639d545-8aff-415f-970b-0d7c8ca5351c",
   "metadata": {},
   "outputs": [
    {
     "name": "stdout",
     "output_type": "stream",
     "text": [
      "0 1\n",
      "1 2\n",
      "3 3\n",
      "6 4\n",
      "10 5\n",
      "15 6\n",
      "21 7\n",
      "28 8\n",
      "36 9\n"
     ]
    },
    {
     "data": {
      "text/plain": [
       "45"
      ]
     },
     "execution_count": 53,
     "metadata": {},
     "output_type": "execute_result"
    }
   ],
   "source": [
    "reduce(sumar, lst[:10])"
   ]
  },
  {
   "cell_type": "code",
   "execution_count": 54,
   "id": "13e1917a-875c-4f0c-98cf-c67acbfbd050",
   "metadata": {},
   "outputs": [],
   "source": [
    "def producto (a,b):\n",
    "\n",
    "    print(a,b)\n",
    "\n",
    "    return a * b"
   ]
  },
  {
   "cell_type": "code",
   "execution_count": 56,
   "id": "4f0e9518-0019-40ea-a630-731f068d33c2",
   "metadata": {},
   "outputs": [
    {
     "name": "stdout",
     "output_type": "stream",
     "text": [
      "1 2\n",
      "2 3\n",
      "6 4\n",
      "24 5\n",
      "120 6\n",
      "720 7\n",
      "5040 8\n",
      "40320 9\n"
     ]
    },
    {
     "data": {
      "text/plain": [
       "362880"
      ]
     },
     "execution_count": 56,
     "metadata": {},
     "output_type": "execute_result"
    }
   ],
   "source": [
    "reduce(producto, lst[1:10])"
   ]
  },
  {
   "cell_type": "code",
   "execution_count": 57,
   "id": "1d63c951-8b9c-4d5e-be74-9099bda8c8df",
   "metadata": {},
   "outputs": [
    {
     "data": {
      "text/plain": [
       "3"
      ]
     },
     "execution_count": 57,
     "metadata": {},
     "output_type": "execute_result"
    }
   ],
   "source": [
    "lst_lst = [[1,2,3], [4,5,6], [7,8,9]]\n",
    "\n",
    "len(lst_lst)"
   ]
  },
  {
   "cell_type": "code",
   "execution_count": 58,
   "id": "0947330b-6803-421e-b553-188a0322879f",
   "metadata": {},
   "outputs": [
    {
     "data": {
      "text/plain": [
       "[1, 2, 3, 4, 5, 6, 7, 8, 9]"
      ]
     },
     "execution_count": 58,
     "metadata": {},
     "output_type": "execute_result"
    }
   ],
   "source": [
    "reduce(lambda a,b: a+b, lst_lst)"
   ]
  },
  {
   "cell_type": "code",
   "execution_count": 59,
   "id": "d866cf62-3cb3-43a9-b7bf-af0284f53d74",
   "metadata": {},
   "outputs": [
    {
     "name": "stdout",
     "output_type": "stream",
     "text": [
      "[1, 2, 3] [4, 5, 6]\n",
      "[1, 2, 3, 4, 5, 6] [7, 8, 9]\n"
     ]
    },
    {
     "data": {
      "text/plain": [
       "[1, 2, 3, 4, 5, 6, 7, 8, 9]"
      ]
     },
     "execution_count": 59,
     "metadata": {},
     "output_type": "execute_result"
    }
   ],
   "source": [
    "reduce(sumar, lst_lst)"
   ]
  }
 ],
 "metadata": {
  "kernelspec": {
   "display_name": "Python 3 (ipykernel)",
   "language": "python",
   "name": "python3"
  },
  "language_info": {
   "codemirror_mode": {
    "name": "ipython",
    "version": 3
   },
   "file_extension": ".py",
   "mimetype": "text/x-python",
   "name": "python",
   "nbconvert_exporter": "python",
   "pygments_lexer": "ipython3",
   "version": "3.11.7"
  }
 },
 "nbformat": 4,
 "nbformat_minor": 5
}
